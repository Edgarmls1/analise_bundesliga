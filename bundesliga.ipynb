{
 "cells": [
  {
   "cell_type": "markdown",
   "metadata": {},
   "source": [
    "# importando bibliotecas"
   ]
  },
  {
   "cell_type": "code",
   "execution_count": 29,
   "metadata": {},
   "outputs": [],
   "source": [
    "import pandas as pd\n",
    "import seaborn as sns\n",
    "import requests\n",
    "import matplotlib.pyplot as plt\n",
    "import plotly.express as px"
   ]
  },
  {
   "cell_type": "markdown",
   "metadata": {},
   "source": [
    "# lendo dados"
   ]
  },
  {
   "cell_type": "code",
   "execution_count": 2,
   "metadata": {},
   "outputs": [],
   "source": [
    "url = 'https://www.openligadb.de/api/getmatchdata/bl1/2023'"
   ]
  },
  {
   "cell_type": "code",
   "execution_count": 3,
   "metadata": {},
   "outputs": [],
   "source": [
    "response = requests.get(url)\n",
    "\n",
    "if response.status_code == 200:\n",
    "    matches = response.json()\n",
    "else:\n",
    "    print(f\"Erro ao acessar a API: {response.status_code}\")\n",
    "    matches = []"
   ]
  },
  {
   "cell_type": "code",
   "execution_count": 4,
   "metadata": {},
   "outputs": [
    {
     "data": {
      "text/html": [
       "<div>\n",
       "<style scoped>\n",
       "    .dataframe tbody tr th:only-of-type {\n",
       "        vertical-align: middle;\n",
       "    }\n",
       "\n",
       "    .dataframe tbody tr th {\n",
       "        vertical-align: top;\n",
       "    }\n",
       "\n",
       "    .dataframe thead th {\n",
       "        text-align: right;\n",
       "    }\n",
       "</style>\n",
       "<table border=\"1\" class=\"dataframe\">\n",
       "  <thead>\n",
       "    <tr style=\"text-align: right;\">\n",
       "      <th></th>\n",
       "      <th>Date</th>\n",
       "      <th>Home Team</th>\n",
       "      <th>Away Team</th>\n",
       "      <th>Home Score</th>\n",
       "      <th>Away Score</th>\n",
       "    </tr>\n",
       "  </thead>\n",
       "  <tbody>\n",
       "    <tr>\n",
       "      <th>0</th>\n",
       "      <td>2023-08-18 18:30:00+00:00</td>\n",
       "      <td>Werder Bremen</td>\n",
       "      <td>FC Bayern München</td>\n",
       "      <td>0</td>\n",
       "      <td>4</td>\n",
       "    </tr>\n",
       "    <tr>\n",
       "      <th>1</th>\n",
       "      <td>2023-08-19 13:30:00+00:00</td>\n",
       "      <td>Bayer Leverkusen</td>\n",
       "      <td>RB Leipzig</td>\n",
       "      <td>3</td>\n",
       "      <td>2</td>\n",
       "    </tr>\n",
       "    <tr>\n",
       "      <th>2</th>\n",
       "      <td>2023-08-19 13:30:00+00:00</td>\n",
       "      <td>VfL Wolfsburg</td>\n",
       "      <td>1. FC Heidenheim 1846</td>\n",
       "      <td>2</td>\n",
       "      <td>0</td>\n",
       "    </tr>\n",
       "    <tr>\n",
       "      <th>3</th>\n",
       "      <td>2023-08-19 13:30:00+00:00</td>\n",
       "      <td>TSG 1899 Hoffenheim</td>\n",
       "      <td>SC Freiburg</td>\n",
       "      <td>1</td>\n",
       "      <td>2</td>\n",
       "    </tr>\n",
       "    <tr>\n",
       "      <th>4</th>\n",
       "      <td>2023-08-19 13:30:00+00:00</td>\n",
       "      <td>FC Augsburg</td>\n",
       "      <td>Borussia Mönchengladbach</td>\n",
       "      <td>4</td>\n",
       "      <td>4</td>\n",
       "    </tr>\n",
       "  </tbody>\n",
       "</table>\n",
       "</div>"
      ],
      "text/plain": [
       "                       Date            Home Team                 Away Team  \\\n",
       "0 2023-08-18 18:30:00+00:00        Werder Bremen         FC Bayern München   \n",
       "1 2023-08-19 13:30:00+00:00     Bayer Leverkusen                RB Leipzig   \n",
       "2 2023-08-19 13:30:00+00:00        VfL Wolfsburg     1. FC Heidenheim 1846   \n",
       "3 2023-08-19 13:30:00+00:00  TSG 1899 Hoffenheim               SC Freiburg   \n",
       "4 2023-08-19 13:30:00+00:00          FC Augsburg  Borussia Mönchengladbach   \n",
       "\n",
       "   Home Score  Away Score  \n",
       "0           0           4  \n",
       "1           3           2  \n",
       "2           2           0  \n",
       "3           1           2  \n",
       "4           4           4  "
      ]
     },
     "execution_count": 4,
     "metadata": {},
     "output_type": "execute_result"
    }
   ],
   "source": [
    "data = []\n",
    "for match in matches:\n",
    "    match_date = match['matchDateTimeUTC']\n",
    "    home_team = match['team1']['teamName']\n",
    "    away_team = match['team2']['teamName']\n",
    "    home_score = match['matchResults'][-1]['pointsTeam1']\n",
    "    away_score = match['matchResults'][-1]['pointsTeam2']\n",
    "    \n",
    "    data.append([match_date, home_team, away_team, home_score, away_score])\n",
    "\n",
    "df = pd.DataFrame(data, columns=['Date', 'Home Team', 'Away Team', 'Home Score', 'Away Score'])\n",
    "\n",
    "df['Date'] = pd.to_datetime(df['Date'])\n",
    "\n",
    "df.head()"
   ]
  },
  {
   "cell_type": "markdown",
   "metadata": {},
   "source": [
    "# calculando vitorias, empates e derrotas"
   ]
  },
  {
   "cell_type": "code",
   "execution_count": 5,
   "metadata": {},
   "outputs": [],
   "source": [
    "wins = []\n",
    "loses = []\n",
    "draws = []\n",
    "\n",
    "for i in df.index:\n",
    "    if df.iloc[i]['Home Score'] > df.iloc[i]['Away Score']:\n",
    "        wins.append(df.iloc[i]['Home Team'])\n",
    "        loses.append(df.iloc[i]['Away Team'])\n",
    "    elif df.iloc[i]['Home Score'] < df.iloc[i]['Away Score']:\n",
    "        loses.append(df.iloc[i]['Home Team'])\n",
    "        wins.append(df.iloc[i]['Away Team'])\n",
    "    else:\n",
    "        draws.append(df.iloc[i]['Home Team'])\n",
    "        draws.append(df.iloc[i]['Away Team'])"
   ]
  },
  {
   "cell_type": "code",
   "execution_count": 6,
   "metadata": {},
   "outputs": [],
   "source": [
    "wins = pd.DataFrame(wins, columns=['Team'])\n",
    "loses = pd.DataFrame(loses, columns=['Team'])\n",
    "draws = pd.DataFrame(draws, columns=['Team'])\n",
    "\n",
    "wins = wins['Team'].value_counts().reset_index()\n",
    "loses = loses['Team'].value_counts().reset_index()\n",
    "draws = draws['Team'].value_counts().reset_index()\n",
    "\n",
    "wins.columns = ['Team', 'Count']\n",
    "loses.columns = ['Team', 'Count']\n",
    "draws.columns = ['Team', 'Count']"
   ]
  },
  {
   "cell_type": "code",
   "execution_count": 7,
   "metadata": {},
   "outputs": [
    {
     "data": {
      "text/plain": [
       "Text(0.5, 1.0, 'Times com mais vitorias')"
      ]
     },
     "execution_count": 7,
     "metadata": {},
     "output_type": "execute_result"
    },
    {
     "data": {
      "image/png": "[encoded data removed]",
      "text/plain": [
       "<Figure size 640x480 with 1 Axes>"
      ]
     },
     "metadata": {},
     "output_type": "display_data"
    }
   ],
   "source": [
    "sns.barplot(data=wins, y = 'Team', x = 'Count')\n",
    "plt.title('Times com mais vitorias')"
   ]
  },
  {
   "cell_type": "code",
   "execution_count": 8,
   "metadata": {},
   "outputs": [
    {
     "data": {
      "text/plain": [
       "Text(0.5, 1.0, 'Times com mais empates')"
      ]
     },
     "execution_count": 8,
     "metadata": {},
     "output_type": "execute_result"
    },
    {
     "data": {
      "image/png": "[encoded data removed]",
      "text/plain": [
       "<Figure size 640x480 with 1 Axes>"
      ]
     },
     "metadata": {},
     "output_type": "display_data"
    }
   ],
   "source": [
    "sns.barplot(data= draws, y = 'Team', x = 'Count')\n",
    "plt.title('Times com mais empates')"
   ]
  },
  {
   "cell_type": "code",
   "execution_count": 9,
   "metadata": {},
   "outputs": [
    {
     "data": {
      "text/plain": [
       "Text(0.5, 1.0, 'Times com mais derrotas')"
      ]
     },
     "execution_count": 9,
     "metadata": {},
     "output_type": "execute_result"
    },
    {
     "data": {
      "image/png": "[encoded data removed]",
      "text/plain": [
       "<Figure size 640x480 with 1 Axes>"
      ]
     },
     "metadata": {},
     "output_type": "display_data"
    }
   ],
   "source": [
    "sns.barplot(data=loses, y = 'Team', x = 'Count')\n",
    "plt.title('Times com mais derrotas')"
   ]
  },
  {
   "cell_type": "markdown",
   "metadata": {},
   "source": [
    "O campeão Bayer Leverkusen não sofreu nenhuma derrota"
   ]
  },
  {
   "cell_type": "markdown",
   "metadata": {},
   "source": [
    "# calculando numero de gols em casa e como visitante"
   ]
  },
  {
   "cell_type": "code",
   "execution_count": 10,
   "metadata": {},
   "outputs": [
    {
     "data": {
      "text/html": [
       "<div>\n",
       "<style scoped>\n",
       "    .dataframe tbody tr th:only-of-type {\n",
       "        vertical-align: middle;\n",
       "    }\n",
       "\n",
       "    .dataframe tbody tr th {\n",
       "        vertical-align: top;\n",
       "    }\n",
       "\n",
       "    .dataframe thead th {\n",
       "        text-align: right;\n",
       "    }\n",
       "</style>\n",
       "<table border=\"1\" class=\"dataframe\">\n",
       "  <thead>\n",
       "    <tr style=\"text-align: right;\">\n",
       "      <th></th>\n",
       "      <th>Team</th>\n",
       "      <th>Goals</th>\n",
       "    </tr>\n",
       "  </thead>\n",
       "  <tbody>\n",
       "    <tr>\n",
       "      <th>0</th>\n",
       "      <td>FC Bayern München</td>\n",
       "      <td>53</td>\n",
       "    </tr>\n",
       "    <tr>\n",
       "      <th>1</th>\n",
       "      <td>VfB Stuttgart</td>\n",
       "      <td>50</td>\n",
       "    </tr>\n",
       "    <tr>\n",
       "      <th>2</th>\n",
       "      <td>Bayer Leverkusen</td>\n",
       "      <td>47</td>\n",
       "    </tr>\n",
       "    <tr>\n",
       "      <th>3</th>\n",
       "      <td>RB Leipzig</td>\n",
       "      <td>40</td>\n",
       "    </tr>\n",
       "    <tr>\n",
       "      <th>4</th>\n",
       "      <td>Borussia Dortmund</td>\n",
       "      <td>37</td>\n",
       "    </tr>\n",
       "    <tr>\n",
       "      <th>5</th>\n",
       "      <td>TSG 1899 Hoffenheim</td>\n",
       "      <td>31</td>\n",
       "    </tr>\n",
       "    <tr>\n",
       "      <th>6</th>\n",
       "      <td>1. FC Heidenheim 1846</td>\n",
       "      <td>30</td>\n",
       "    </tr>\n",
       "    <tr>\n",
       "      <th>7</th>\n",
       "      <td>Werder Bremen</td>\n",
       "      <td>29</td>\n",
       "    </tr>\n",
       "    <tr>\n",
       "      <th>8</th>\n",
       "      <td>Eintracht Frankfurt</td>\n",
       "      <td>29</td>\n",
       "    </tr>\n",
       "    <tr>\n",
       "      <th>9</th>\n",
       "      <td>SC Freiburg</td>\n",
       "      <td>28</td>\n",
       "    </tr>\n",
       "    <tr>\n",
       "      <th>10</th>\n",
       "      <td>Borussia Mönchengladbach</td>\n",
       "      <td>27</td>\n",
       "    </tr>\n",
       "    <tr>\n",
       "      <th>11</th>\n",
       "      <td>FC Augsburg</td>\n",
       "      <td>26</td>\n",
       "    </tr>\n",
       "    <tr>\n",
       "      <th>12</th>\n",
       "      <td>VfL Bochum</td>\n",
       "      <td>26</td>\n",
       "    </tr>\n",
       "    <tr>\n",
       "      <th>13</th>\n",
       "      <td>VfL Wolfsburg</td>\n",
       "      <td>25</td>\n",
       "    </tr>\n",
       "    <tr>\n",
       "      <th>14</th>\n",
       "      <td>1. FSV Mainz 05</td>\n",
       "      <td>23</td>\n",
       "    </tr>\n",
       "    <tr>\n",
       "      <th>15</th>\n",
       "      <td>1. FC Union Berlin</td>\n",
       "      <td>22</td>\n",
       "    </tr>\n",
       "    <tr>\n",
       "      <th>16</th>\n",
       "      <td>1. FC Köln</td>\n",
       "      <td>15</td>\n",
       "    </tr>\n",
       "    <tr>\n",
       "      <th>17</th>\n",
       "      <td>SV Darmstadt 98</td>\n",
       "      <td>15</td>\n",
       "    </tr>\n",
       "  </tbody>\n",
       "</table>\n",
       "</div>"
      ],
      "text/plain": [
       "                        Team  Goals\n",
       "0          FC Bayern München     53\n",
       "1              VfB Stuttgart     50\n",
       "2           Bayer Leverkusen     47\n",
       "3                 RB Leipzig     40\n",
       "4          Borussia Dortmund     37\n",
       "5        TSG 1899 Hoffenheim     31\n",
       "6      1. FC Heidenheim 1846     30\n",
       "7              Werder Bremen     29\n",
       "8        Eintracht Frankfurt     29\n",
       "9                SC Freiburg     28\n",
       "10  Borussia Mönchengladbach     27\n",
       "11               FC Augsburg     26\n",
       "12                VfL Bochum     26\n",
       "13             VfL Wolfsburg     25\n",
       "14           1. FSV Mainz 05     23\n",
       "15        1. FC Union Berlin     22\n",
       "16                1. FC Köln     15\n",
       "17           SV Darmstadt 98     15"
      ]
     },
     "execution_count": 10,
     "metadata": {},
     "output_type": "execute_result"
    }
   ],
   "source": [
    "home_score = df.groupby('Home Team')['Home Score'].sum().sort_values(ascending=False).reset_index()\n",
    "\n",
    "home_score.columns = ['Team', 'Goals']\n",
    "\n",
    "home_score"
   ]
  },
  {
   "cell_type": "code",
   "execution_count": 11,
   "metadata": {},
   "outputs": [
    {
     "data": {
      "text/plain": [
       "Text(0.5, 1.0, 'Times com mais gols em casa')"
      ]
     },
     "execution_count": 11,
     "metadata": {},
     "output_type": "execute_result"
    },
    {
     "data": {
      "image/png": "[encoded data removed]",
      "text/plain": [
       "<Figure size 640x480 with 1 Axes>"
      ]
     },
     "metadata": {},
     "output_type": "display_data"
    }
   ],
   "source": [
    "sns.barplot(data = home_score, y = 'Team', x = 'Goals')\n",
    "plt.title('Times com mais gols em casa')"
   ]
  },
  {
   "cell_type": "code",
   "execution_count": 12,
   "metadata": {},
   "outputs": [
    {
     "data": {
      "text/html": [
       "<div>\n",
       "<style scoped>\n",
       "    .dataframe tbody tr th:only-of-type {\n",
       "        vertical-align: middle;\n",
       "    }\n",
       "\n",
       "    .dataframe tbody tr th {\n",
       "        vertical-align: top;\n",
       "    }\n",
       "\n",
       "    .dataframe thead th {\n",
       "        text-align: right;\n",
       "    }\n",
       "</style>\n",
       "<table border=\"1\" class=\"dataframe\">\n",
       "  <thead>\n",
       "    <tr style=\"text-align: right;\">\n",
       "      <th></th>\n",
       "      <th>Team</th>\n",
       "      <th>Goals</th>\n",
       "    </tr>\n",
       "  </thead>\n",
       "  <tbody>\n",
       "    <tr>\n",
       "      <th>0</th>\n",
       "      <td>Bayer Leverkusen</td>\n",
       "      <td>42</td>\n",
       "    </tr>\n",
       "    <tr>\n",
       "      <th>1</th>\n",
       "      <td>FC Bayern München</td>\n",
       "      <td>41</td>\n",
       "    </tr>\n",
       "    <tr>\n",
       "      <th>2</th>\n",
       "      <td>RB Leipzig</td>\n",
       "      <td>37</td>\n",
       "    </tr>\n",
       "    <tr>\n",
       "      <th>3</th>\n",
       "      <td>TSG 1899 Hoffenheim</td>\n",
       "      <td>35</td>\n",
       "    </tr>\n",
       "    <tr>\n",
       "      <th>4</th>\n",
       "      <td>Borussia Dortmund</td>\n",
       "      <td>31</td>\n",
       "    </tr>\n",
       "    <tr>\n",
       "      <th>5</th>\n",
       "      <td>Borussia Mönchengladbach</td>\n",
       "      <td>29</td>\n",
       "    </tr>\n",
       "    <tr>\n",
       "      <th>6</th>\n",
       "      <td>VfB Stuttgart</td>\n",
       "      <td>28</td>\n",
       "    </tr>\n",
       "    <tr>\n",
       "      <th>7</th>\n",
       "      <td>FC Augsburg</td>\n",
       "      <td>24</td>\n",
       "    </tr>\n",
       "    <tr>\n",
       "      <th>8</th>\n",
       "      <td>Eintracht Frankfurt</td>\n",
       "      <td>22</td>\n",
       "    </tr>\n",
       "    <tr>\n",
       "      <th>9</th>\n",
       "      <td>1. FC Heidenheim 1846</td>\n",
       "      <td>20</td>\n",
       "    </tr>\n",
       "    <tr>\n",
       "      <th>10</th>\n",
       "      <td>Werder Bremen</td>\n",
       "      <td>19</td>\n",
       "    </tr>\n",
       "    <tr>\n",
       "      <th>11</th>\n",
       "      <td>SC Freiburg</td>\n",
       "      <td>17</td>\n",
       "    </tr>\n",
       "    <tr>\n",
       "      <th>12</th>\n",
       "      <td>VfL Wolfsburg</td>\n",
       "      <td>16</td>\n",
       "    </tr>\n",
       "    <tr>\n",
       "      <th>13</th>\n",
       "      <td>1. FSV Mainz 05</td>\n",
       "      <td>16</td>\n",
       "    </tr>\n",
       "    <tr>\n",
       "      <th>14</th>\n",
       "      <td>VfL Bochum</td>\n",
       "      <td>16</td>\n",
       "    </tr>\n",
       "    <tr>\n",
       "      <th>15</th>\n",
       "      <td>SV Darmstadt 98</td>\n",
       "      <td>15</td>\n",
       "    </tr>\n",
       "    <tr>\n",
       "      <th>16</th>\n",
       "      <td>1. FC Köln</td>\n",
       "      <td>13</td>\n",
       "    </tr>\n",
       "    <tr>\n",
       "      <th>17</th>\n",
       "      <td>1. FC Union Berlin</td>\n",
       "      <td>11</td>\n",
       "    </tr>\n",
       "  </tbody>\n",
       "</table>\n",
       "</div>"
      ],
      "text/plain": [
       "                        Team  Goals\n",
       "0           Bayer Leverkusen     42\n",
       "1          FC Bayern München     41\n",
       "2                 RB Leipzig     37\n",
       "3        TSG 1899 Hoffenheim     35\n",
       "4          Borussia Dortmund     31\n",
       "5   Borussia Mönchengladbach     29\n",
       "6              VfB Stuttgart     28\n",
       "7                FC Augsburg     24\n",
       "8        Eintracht Frankfurt     22\n",
       "9      1. FC Heidenheim 1846     20\n",
       "10             Werder Bremen     19\n",
       "11               SC Freiburg     17\n",
       "12             VfL Wolfsburg     16\n",
       "13           1. FSV Mainz 05     16\n",
       "14                VfL Bochum     16\n",
       "15           SV Darmstadt 98     15\n",
       "16                1. FC Köln     13\n",
       "17        1. FC Union Berlin     11"
      ]
     },
     "execution_count": 12,
     "metadata": {},
     "output_type": "execute_result"
    }
   ],
   "source": [
    "away_score = df.groupby('Away Team')['Away Score'].sum().sort_values(ascending=False).reset_index()\n",
    "\n",
    "away_score.columns = ['Team', 'Goals']\n",
    "\n",
    "away_score"
   ]
  },
  {
   "cell_type": "code",
   "execution_count": 13,
   "metadata": {},
   "outputs": [
    {
     "data": {
      "text/plain": [
       "Text(0.5, 1.0, 'Times com mais gols como visitante')"
      ]
     },
     "execution_count": 13,
     "metadata": {},
     "output_type": "execute_result"
    },
    {
     "data": {
      "image/png": "[encoded data removed]",
      "text/plain": [
       "<Figure size 640x480 with 1 Axes>"
      ]
     },
     "metadata": {},
     "output_type": "display_data"
    }
   ],
   "source": [
    "sns.barplot(data = away_score, y = 'Team', x = 'Goals')\n",
    "plt.title('Times com mais gols como visitante')"
   ]
  },
  {
   "cell_type": "code",
   "execution_count": 14,
   "metadata": {},
   "outputs": [],
   "source": [
    "total_score = pd.concat([home_score, away_score])"
   ]
  },
  {
   "cell_type": "code",
   "execution_count": 15,
   "metadata": {},
   "outputs": [
    {
     "data": {
      "text/html": [
       "<div>\n",
       "<style scoped>\n",
       "    .dataframe tbody tr th:only-of-type {\n",
       "        vertical-align: middle;\n",
       "    }\n",
       "\n",
       "    .dataframe tbody tr th {\n",
       "        vertical-align: top;\n",
       "    }\n",
       "\n",
       "    .dataframe thead th {\n",
       "        text-align: right;\n",
       "    }\n",
       "</style>\n",
       "<table border=\"1\" class=\"dataframe\">\n",
       "  <thead>\n",
       "    <tr style=\"text-align: right;\">\n",
       "      <th></th>\n",
       "      <th>Team</th>\n",
       "      <th>Goals</th>\n",
       "    </tr>\n",
       "  </thead>\n",
       "  <tbody>\n",
       "    <tr>\n",
       "      <th>0</th>\n",
       "      <td>FC Bayern München</td>\n",
       "      <td>94</td>\n",
       "    </tr>\n",
       "    <tr>\n",
       "      <th>1</th>\n",
       "      <td>Bayer Leverkusen</td>\n",
       "      <td>89</td>\n",
       "    </tr>\n",
       "    <tr>\n",
       "      <th>2</th>\n",
       "      <td>VfB Stuttgart</td>\n",
       "      <td>78</td>\n",
       "    </tr>\n",
       "    <tr>\n",
       "      <th>3</th>\n",
       "      <td>RB Leipzig</td>\n",
       "      <td>77</td>\n",
       "    </tr>\n",
       "    <tr>\n",
       "      <th>4</th>\n",
       "      <td>Borussia Dortmund</td>\n",
       "      <td>68</td>\n",
       "    </tr>\n",
       "    <tr>\n",
       "      <th>5</th>\n",
       "      <td>TSG 1899 Hoffenheim</td>\n",
       "      <td>66</td>\n",
       "    </tr>\n",
       "    <tr>\n",
       "      <th>6</th>\n",
       "      <td>Borussia Mönchengladbach</td>\n",
       "      <td>56</td>\n",
       "    </tr>\n",
       "    <tr>\n",
       "      <th>7</th>\n",
       "      <td>Eintracht Frankfurt</td>\n",
       "      <td>51</td>\n",
       "    </tr>\n",
       "    <tr>\n",
       "      <th>8</th>\n",
       "      <td>FC Augsburg</td>\n",
       "      <td>50</td>\n",
       "    </tr>\n",
       "    <tr>\n",
       "      <th>9</th>\n",
       "      <td>1. FC Heidenheim 1846</td>\n",
       "      <td>50</td>\n",
       "    </tr>\n",
       "    <tr>\n",
       "      <th>10</th>\n",
       "      <td>Werder Bremen</td>\n",
       "      <td>48</td>\n",
       "    </tr>\n",
       "    <tr>\n",
       "      <th>11</th>\n",
       "      <td>SC Freiburg</td>\n",
       "      <td>45</td>\n",
       "    </tr>\n",
       "    <tr>\n",
       "      <th>12</th>\n",
       "      <td>VfL Bochum</td>\n",
       "      <td>42</td>\n",
       "    </tr>\n",
       "    <tr>\n",
       "      <th>13</th>\n",
       "      <td>VfL Wolfsburg</td>\n",
       "      <td>41</td>\n",
       "    </tr>\n",
       "    <tr>\n",
       "      <th>14</th>\n",
       "      <td>1. FSV Mainz 05</td>\n",
       "      <td>39</td>\n",
       "    </tr>\n",
       "    <tr>\n",
       "      <th>15</th>\n",
       "      <td>1. FC Union Berlin</td>\n",
       "      <td>33</td>\n",
       "    </tr>\n",
       "    <tr>\n",
       "      <th>16</th>\n",
       "      <td>SV Darmstadt 98</td>\n",
       "      <td>30</td>\n",
       "    </tr>\n",
       "    <tr>\n",
       "      <th>17</th>\n",
       "      <td>1. FC Köln</td>\n",
       "      <td>28</td>\n",
       "    </tr>\n",
       "  </tbody>\n",
       "</table>\n",
       "</div>"
      ],
      "text/plain": [
       "                        Team  Goals\n",
       "0          FC Bayern München     94\n",
       "1           Bayer Leverkusen     89\n",
       "2              VfB Stuttgart     78\n",
       "3                 RB Leipzig     77\n",
       "4          Borussia Dortmund     68\n",
       "5        TSG 1899 Hoffenheim     66\n",
       "6   Borussia Mönchengladbach     56\n",
       "7        Eintracht Frankfurt     51\n",
       "8                FC Augsburg     50\n",
       "9      1. FC Heidenheim 1846     50\n",
       "10             Werder Bremen     48\n",
       "11               SC Freiburg     45\n",
       "12                VfL Bochum     42\n",
       "13             VfL Wolfsburg     41\n",
       "14           1. FSV Mainz 05     39\n",
       "15        1. FC Union Berlin     33\n",
       "16           SV Darmstadt 98     30\n",
       "17                1. FC Köln     28"
      ]
     },
     "execution_count": 15,
     "metadata": {},
     "output_type": "execute_result"
    }
   ],
   "source": [
    "total_score = total_score.groupby('Team')['Goals'].sum().sort_values(ascending=False).reset_index()\n",
    "total_score"
   ]
  },
  {
   "cell_type": "markdown",
   "metadata": {},
   "source": [
    "o campeão Bayer Leverkusen foi segundo time que mais marcou gols"
   ]
  },
  {
   "cell_type": "code",
   "execution_count": 16,
   "metadata": {},
   "outputs": [
    {
     "data": {
      "text/plain": [
       "Text(0.5, 1.0, 'Times com mais gols geral')"
      ]
     },
     "execution_count": 16,
     "metadata": {},
     "output_type": "execute_result"
    },
    {
     "data": {
      "image/png": "[encoded data removed]",
      "text/plain": [
       "<Figure size 640x480 with 1 Axes>"
      ]
     },
     "metadata": {},
     "output_type": "display_data"
    }
   ],
   "source": [
    "sns.barplot(data = total_score, y = 'Team', x = 'Goals')\n",
    "plt.title('Times com mais gols geral')"
   ]
  },
  {
   "cell_type": "markdown",
   "metadata": {},
   "source": [
    "# calculando tabela de pontuação"
   ]
  },
  {
   "cell_type": "code",
   "execution_count": 17,
   "metadata": {},
   "outputs": [],
   "source": [
    "df['Home Win'] = (df['Home Score'] > df['Away Score']).astype(int)\n",
    "df['Away Win'] = (df['Away Score'] > df['Home Score']).astype(int)\n",
    "\n",
    "df['Home Points'] = df['Home Win'] * 3\n",
    "df['Away Points'] = df['Away Win'] * 3\n",
    "df['Draw Points'] = ((df['Home Score'] == df['Away Score']) * 1).astype(int)\n",
    "\n",
    "home_points = df.groupby('Home Team')['Home Points'].sum().reset_index().rename(columns={'Home Team': 'Team', 'Home Points': 'Points'})\n",
    "away_points = df.groupby('Away Team')['Away Points'].sum().reset_index().rename(columns={'Away Team': 'Team', 'Away Points': 'Points'})\n",
    "total_points = pd.concat([home_points, away_points]).groupby('Team').sum().reset_index()\n",
    "draw_points_home = df.groupby('Home Team')['Draw Points'].sum().reset_index().rename(columns={'Home Team': 'Team', 'Draw Points': 'Draw Points'})\n",
    "draw_points_away = df.groupby('Away Team')['Draw Points'].sum().reset_index().rename(columns={'Away Team': 'Team', 'Draw Points': 'Draw Points'})\n",
    "total_draw_points = pd.concat([draw_points_home, draw_points_away]).groupby('Team').sum().reset_index()"
   ]
  },
  {
   "cell_type": "code",
   "execution_count": 18,
   "metadata": {},
   "outputs": [],
   "source": [
    "team_stats = total_points.merge(total_score, on='Team')\n",
    "team_stats.sort_values('Points', ascending=False, inplace=True)\n",
    "table = team_stats.drop('Goals', axis=1).reset_index()\n",
    "table.drop('index', axis=1, inplace=True)"
   ]
  },
  {
   "cell_type": "code",
   "execution_count": 19,
   "metadata": {},
   "outputs": [],
   "source": [
    "table = table.merge(total_draw_points, on='Team', how='left')\n",
    "table['Points'] += table['Draw Points']\n",
    "table.drop('Draw Points', axis=1, inplace=True)"
   ]
  },
  {
   "cell_type": "code",
   "execution_count": 20,
   "metadata": {},
   "outputs": [
    {
     "data": {
      "text/html": [
       "<div>\n",
       "<style scoped>\n",
       "    .dataframe tbody tr th:only-of-type {\n",
       "        vertical-align: middle;\n",
       "    }\n",
       "\n",
       "    .dataframe tbody tr th {\n",
       "        vertical-align: top;\n",
       "    }\n",
       "\n",
       "    .dataframe thead th {\n",
       "        text-align: right;\n",
       "    }\n",
       "</style>\n",
       "<table border=\"1\" class=\"dataframe\">\n",
       "  <thead>\n",
       "    <tr style=\"text-align: right;\">\n",
       "      <th></th>\n",
       "      <th>Team</th>\n",
       "      <th>Points</th>\n",
       "    </tr>\n",
       "  </thead>\n",
       "  <tbody>\n",
       "    <tr>\n",
       "      <th>0</th>\n",
       "      <td>Bayer Leverkusen</td>\n",
       "      <td>90</td>\n",
       "    </tr>\n",
       "    <tr>\n",
       "      <th>1</th>\n",
       "      <td>FC Bayern München</td>\n",
       "      <td>72</td>\n",
       "    </tr>\n",
       "    <tr>\n",
       "      <th>2</th>\n",
       "      <td>VfB Stuttgart</td>\n",
       "      <td>73</td>\n",
       "    </tr>\n",
       "    <tr>\n",
       "      <th>3</th>\n",
       "      <td>RB Leipzig</td>\n",
       "      <td>65</td>\n",
       "    </tr>\n",
       "    <tr>\n",
       "      <th>4</th>\n",
       "      <td>Borussia Dortmund</td>\n",
       "      <td>63</td>\n",
       "    </tr>\n",
       "    <tr>\n",
       "      <th>5</th>\n",
       "      <td>TSG 1899 Hoffenheim</td>\n",
       "      <td>46</td>\n",
       "    </tr>\n",
       "    <tr>\n",
       "      <th>6</th>\n",
       "      <td>Werder Bremen</td>\n",
       "      <td>42</td>\n",
       "    </tr>\n",
       "    <tr>\n",
       "      <th>7</th>\n",
       "      <td>Eintracht Frankfurt</td>\n",
       "      <td>47</td>\n",
       "    </tr>\n",
       "    <tr>\n",
       "      <th>8</th>\n",
       "      <td>SC Freiburg</td>\n",
       "      <td>42</td>\n",
       "    </tr>\n",
       "    <tr>\n",
       "      <th>9</th>\n",
       "      <td>1. FC Heidenheim 1846</td>\n",
       "      <td>42</td>\n",
       "    </tr>\n",
       "    <tr>\n",
       "      <th>10</th>\n",
       "      <td>FC Augsburg</td>\n",
       "      <td>39</td>\n",
       "    </tr>\n",
       "    <tr>\n",
       "      <th>11</th>\n",
       "      <td>VfL Wolfsburg</td>\n",
       "      <td>37</td>\n",
       "    </tr>\n",
       "    <tr>\n",
       "      <th>12</th>\n",
       "      <td>1. FC Union Berlin</td>\n",
       "      <td>33</td>\n",
       "    </tr>\n",
       "    <tr>\n",
       "      <th>13</th>\n",
       "      <td>Borussia Mönchengladbach</td>\n",
       "      <td>34</td>\n",
       "    </tr>\n",
       "    <tr>\n",
       "      <th>14</th>\n",
       "      <td>VfL Bochum</td>\n",
       "      <td>33</td>\n",
       "    </tr>\n",
       "    <tr>\n",
       "      <th>15</th>\n",
       "      <td>1. FSV Mainz 05</td>\n",
       "      <td>35</td>\n",
       "    </tr>\n",
       "    <tr>\n",
       "      <th>16</th>\n",
       "      <td>1. FC Köln</td>\n",
       "      <td>27</td>\n",
       "    </tr>\n",
       "    <tr>\n",
       "      <th>17</th>\n",
       "      <td>SV Darmstadt 98</td>\n",
       "      <td>17</td>\n",
       "    </tr>\n",
       "  </tbody>\n",
       "</table>\n",
       "</div>"
      ],
      "text/plain": [
       "                        Team  Points\n",
       "0           Bayer Leverkusen      90\n",
       "1          FC Bayern München      72\n",
       "2              VfB Stuttgart      73\n",
       "3                 RB Leipzig      65\n",
       "4          Borussia Dortmund      63\n",
       "5        TSG 1899 Hoffenheim      46\n",
       "6              Werder Bremen      42\n",
       "7        Eintracht Frankfurt      47\n",
       "8                SC Freiburg      42\n",
       "9      1. FC Heidenheim 1846      42\n",
       "10               FC Augsburg      39\n",
       "11             VfL Wolfsburg      37\n",
       "12        1. FC Union Berlin      33\n",
       "13  Borussia Mönchengladbach      34\n",
       "14                VfL Bochum      33\n",
       "15           1. FSV Mainz 05      35\n",
       "16                1. FC Köln      27\n",
       "17           SV Darmstadt 98      17"
      ]
     },
     "execution_count": 20,
     "metadata": {},
     "output_type": "execute_result"
    }
   ],
   "source": [
    "table # tabela da temporada 23/24"
   ]
  },
  {
   "cell_type": "markdown",
   "metadata": {},
   "source": [
    "# variancia de posição durante o campeonato"
   ]
  },
  {
   "cell_type": "code",
   "execution_count": 21,
   "metadata": {},
   "outputs": [],
   "source": [
    "positions = pd.DataFrame()\n",
    "\n",
    "for date in df['Date'].unique():\n",
    "    current_matches = df[df['Date'] <= date]\n",
    "    home_points = current_matches.groupby('Home Team')['Home Points'].sum().reset_index().rename(columns={'Home Team': 'Team', 'Home Points': 'Points'})\n",
    "    away_points = current_matches.groupby('Away Team')['Away Points'].sum().reset_index().rename(columns={'Away Team': 'Team', 'Away Points': 'Points'})\n",
    "    total_points = pd.concat([home_points, away_points]).groupby('Team').sum().reset_index()\n",
    "    total_points['Date'] = date\n",
    "    total_points['Position'] = total_points['Points'].rank(method='min', ascending=False)\n",
    "    positions = pd.concat([positions, total_points])"
   ]
  },
  {
   "cell_type": "code",
   "execution_count": 38,
   "metadata": {},
   "outputs": [
    {
     "ename": "ValueError",
     "evalue": "Mime type rendering requires nbformat>=4.2.0 but it is not installed",
     "output_type": "error",
     "traceback": [
      "\u001b[1;31m---------------------------------------------------------------------------\u001b[0m",
      "\u001b[1;31mValueError\u001b[0m                                Traceback (most recent call last)",
      "File \u001b[1;32m~\\AppData\\Roaming\\Python\\Python312\\site-packages\\IPython\\core\\formatters.py:925\u001b[0m, in \u001b[0;36mIPythonDisplayFormatter.__call__\u001b[1;34m(self, obj)\u001b[0m\n\u001b[0;32m    923\u001b[0m method \u001b[38;5;241m=\u001b[39m get_real_method(obj, \u001b[38;5;28mself\u001b[39m\u001b[38;5;241m.\u001b[39mprint_method)\n\u001b[0;32m    924\u001b[0m \u001b[38;5;28;01mif\u001b[39;00m method \u001b[38;5;129;01mis\u001b[39;00m \u001b[38;5;129;01mnot\u001b[39;00m \u001b[38;5;28;01mNone\u001b[39;00m:\n\u001b[1;32m--> 925\u001b[0m     \u001b[43mmethod\u001b[49m\u001b[43m(\u001b[49m\u001b[43m)\u001b[49m\n\u001b[0;32m    926\u001b[0m     \u001b[38;5;28;01mreturn\u001b[39;00m \u001b[38;5;28;01mTrue\u001b[39;00m\n",
      "File \u001b[1;32mc:\\Users\\edgar\\AppData\\Local\\Programs\\Python\\Python312\\Lib\\site-packages\\plotly\\basedatatypes.py:832\u001b[0m, in \u001b[0;36mBaseFigure._ipython_display_\u001b[1;34m(self)\u001b[0m\n\u001b[0;32m    829\u001b[0m \u001b[38;5;28;01mimport\u001b[39;00m \u001b[38;5;21;01mplotly\u001b[39;00m\u001b[38;5;21;01m.\u001b[39;00m\u001b[38;5;21;01mio\u001b[39;00m \u001b[38;5;28;01mas\u001b[39;00m \u001b[38;5;21;01mpio\u001b[39;00m\n\u001b[0;32m    831\u001b[0m \u001b[38;5;28;01mif\u001b[39;00m pio\u001b[38;5;241m.\u001b[39mrenderers\u001b[38;5;241m.\u001b[39mrender_on_display \u001b[38;5;129;01mand\u001b[39;00m pio\u001b[38;5;241m.\u001b[39mrenderers\u001b[38;5;241m.\u001b[39mdefault:\n\u001b[1;32m--> 832\u001b[0m     \u001b[43mpio\u001b[49m\u001b[38;5;241;43m.\u001b[39;49m\u001b[43mshow\u001b[49m\u001b[43m(\u001b[49m\u001b[38;5;28;43mself\u001b[39;49m\u001b[43m)\u001b[49m\n\u001b[0;32m    833\u001b[0m \u001b[38;5;28;01melse\u001b[39;00m:\n\u001b[0;32m    834\u001b[0m     \u001b[38;5;28mprint\u001b[39m(\u001b[38;5;28mrepr\u001b[39m(\u001b[38;5;28mself\u001b[39m))\n",
      "File \u001b[1;32mc:\\Users\\edgar\\AppData\\Local\\Programs\\Python\\Python312\\Lib\\site-packages\\plotly\\io\\_renderers.py:394\u001b[0m, in \u001b[0;36mshow\u001b[1;34m(fig, renderer, validate, **kwargs)\u001b[0m\n\u001b[0;32m    389\u001b[0m         \u001b[38;5;28;01mraise\u001b[39;00m \u001b[38;5;167;01mValueError\u001b[39;00m(\n\u001b[0;32m    390\u001b[0m             \u001b[38;5;124m\"\u001b[39m\u001b[38;5;124mMime type rendering requires ipython but it is not installed\u001b[39m\u001b[38;5;124m\"\u001b[39m\n\u001b[0;32m    391\u001b[0m         )\n\u001b[0;32m    393\u001b[0m     \u001b[38;5;28;01mif\u001b[39;00m \u001b[38;5;129;01mnot\u001b[39;00m nbformat \u001b[38;5;129;01mor\u001b[39;00m Version(nbformat\u001b[38;5;241m.\u001b[39m__version__) \u001b[38;5;241m<\u001b[39m Version(\u001b[38;5;124m\"\u001b[39m\u001b[38;5;124m4.2.0\u001b[39m\u001b[38;5;124m\"\u001b[39m):\n\u001b[1;32m--> 394\u001b[0m         \u001b[38;5;28;01mraise\u001b[39;00m \u001b[38;5;167;01mValueError\u001b[39;00m(\n\u001b[0;32m    395\u001b[0m             \u001b[38;5;124m\"\u001b[39m\u001b[38;5;124mMime type rendering requires nbformat>=4.2.0 but it is not installed\u001b[39m\u001b[38;5;124m\"\u001b[39m\n\u001b[0;32m    396\u001b[0m         )\n\u001b[0;32m    398\u001b[0m     ipython_display\u001b[38;5;241m.\u001b[39mdisplay(bundle, raw\u001b[38;5;241m=\u001b[39m\u001b[38;5;28;01mTrue\u001b[39;00m)\n\u001b[0;32m    400\u001b[0m \u001b[38;5;66;03m# external renderers\u001b[39;00m\n",
      "\u001b[1;31mValueError\u001b[0m: Mime type rendering requires nbformat>=4.2.0 but it is not installed"
     ]
    },
    {
     "data": {
      "application/vnd.plotly.v1+json": {
       "config": {
        "plotlyServerURL": "https://plot.ly"
       },
       "data": [
        {
         "hovertemplate": "Team=Bayer Leverkusen<br>Data=%{x}<br>Posição=%{y}<extra></extra>",
         "legendgroup": "Bayer Leverkusen",
         "line": {
          "color": "#636efa",
          "dash": "solid"
         },
         "marker": {
          "symbol": "circle"
         },
         "mode": "lines+markers",
         "name": "Bayer Leverkusen",
         "orientation": "v",
         "showlegend": true,
         "type": "scatter",
         "x": [
          "2023-08-19T13:30:00+00:00",
          "2023-08-19T16:30:00+00:00",
          "2023-08-20T13:30:00+00:00",
          "2023-08-20T15:30:00+00:00",
          "2023-08-25T18:30:00+00:00",
          "2023-08-26T13:30:00+00:00",
          "2023-08-26T16:30:00+00:00",
          "2023-08-27T13:30:00+00:00",
          "2023-08-27T15:30:00+00:00",
          "2023-09-01T18:30:00+00:00",
          "2023-09-02T13:30:00+00:00",
          "2023-09-02T16:30:00+00:00",
          "2023-09-03T13:30:00+00:00",
          "2023-09-03T15:30:00+00:00",
          "2023-09-15T18:30:00+00:00",
          "2023-09-16T13:30:00+00:00",
          "2023-09-16T16:30:00+00:00",
          "2023-09-17T13:30:00+00:00",
          "2023-09-17T15:30:00+00:00",
          "2023-09-22T18:30:00+00:00",
          "2023-09-23T13:30:00+00:00",
          "2023-09-23T16:30:00+00:00",
          "2023-09-24T13:30:00+00:00",
          "2023-09-24T15:30:00+00:00",
          "2023-09-29T18:30:00+00:00",
          "2023-09-30T13:30:00+00:00",
          "2023-09-30T16:30:00+00:00",
          "2023-10-01T13:30:00+00:00",
          "2023-10-01T15:30:00+00:00",
          "2023-10-06T18:30:00+00:00",
          "2023-10-07T13:30:00+00:00",
          "2023-10-07T16:30:00+00:00",
          "2023-10-08T13:30:00+00:00",
          "2023-10-08T15:30:00+00:00",
          "2023-10-08T17:30:00+00:00",
          "2023-10-20T18:30:00+00:00",
          "2023-10-21T13:30:00+00:00",
          "2023-10-21T16:30:00+00:00",
          "2023-10-22T13:30:00+00:00",
          "2023-10-22T15:30:00+00:00",
          "2023-10-27T18:30:00+00:00",
          "2023-10-28T13:30:00+00:00",
          "2023-10-28T16:30:00+00:00",
          "2023-10-29T14:30:00+00:00",
          "2023-10-29T16:30:00+00:00",
          "2023-11-03T19:30:00+00:00",
          "2023-11-04T14:30:00+00:00",
          "2023-11-04T17:30:00+00:00",
          "2023-11-05T14:30:00+00:00",
          "2023-11-05T16:30:00+00:00",
          "2023-11-10T19:30:00+00:00",
          "2023-11-11T14:30:00+00:00",
          "2023-11-11T17:30:00+00:00",
          "2023-11-12T14:30:00+00:00",
          "2023-11-12T16:30:00+00:00",
          "2023-11-12T18:30:00+00:00",
          "2023-11-24T19:30:00+00:00",
          "2023-11-25T14:30:00+00:00",
          "2023-11-25T17:30:00+00:00",
          "2023-11-26T14:30:00+00:00",
          "2023-11-26T16:30:00+00:00",
          "2023-12-01T19:30:00+00:00",
          "2023-12-02T14:30:00+00:00",
          "2023-12-02T17:30:00+00:00",
          "2023-12-03T14:30:00+00:00",
          "2023-12-03T16:30:00+00:00",
          "2023-12-03T18:30:00+00:00",
          "2023-12-08T19:30:00+00:00",
          "2023-12-09T14:30:00+00:00",
          "2023-12-09T17:30:00+00:00",
          "2023-12-10T14:30:00+00:00",
          "2023-12-10T16:30:00+00:00",
          "2023-12-15T19:30:00+00:00",
          "2023-12-16T14:30:00+00:00",
          "2023-12-16T17:30:00+00:00",
          "2023-12-17T14:30:00+00:00",
          "2023-12-17T16:30:00+00:00",
          "2023-12-17T18:30:00+00:00",
          "2023-12-19T17:30:00+00:00",
          "2023-12-19T19:30:00+00:00",
          "2023-12-20T17:30:00+00:00",
          "2023-12-20T19:30:00+00:00",
          "2024-01-12T19:30:00+00:00",
          "2024-01-13T14:30:00+00:00",
          "2024-01-13T17:30:00+00:00",
          "2024-01-14T14:30:00+00:00",
          "2024-01-14T16:30:00+00:00",
          "2024-01-20T14:30:00+00:00",
          "2024-01-20T17:30:00+00:00",
          "2024-01-21T14:30:00+00:00",
          "2024-01-21T16:30:00+00:00",
          "2024-01-24T19:30:00+00:00",
          "2024-01-26T19:30:00+00:00",
          "2024-01-27T14:30:00+00:00",
          "2024-01-27T17:30:00+00:00",
          "2024-01-28T14:30:00+00:00",
          "2024-01-28T16:30:00+00:00",
          "2024-02-02T19:30:00+00:00",
          "2024-02-03T14:30:00+00:00",
          "2024-02-03T17:30:00+00:00",
          "2024-02-04T14:30:00+00:00",
          "2024-02-04T16:30:00+00:00",
          "2024-02-07T17:30:00+00:00",
          "2024-02-09T19:30:00+00:00",
          "2024-02-10T14:30:00+00:00",
          "2024-02-10T17:30:00+00:00",
          "2024-02-11T14:30:00+00:00",
          "2024-02-11T16:30:00+00:00",
          "2024-02-16T19:30:00+00:00",
          "2024-02-17T14:30:00+00:00",
          "2024-02-17T17:30:00+00:00",
          "2024-02-18T14:30:00+00:00",
          "2024-02-18T16:30:00+00:00",
          "2024-02-23T19:30:00+00:00",
          "2024-02-24T14:30:00+00:00",
          "2024-02-24T17:30:00+00:00",
          "2024-02-25T14:30:00+00:00",
          "2024-02-25T16:30:00+00:00",
          "2024-02-25T18:30:00+00:00",
          "2024-03-01T19:30:00+00:00",
          "2024-03-02T14:30:00+00:00",
          "2024-03-02T17:30:00+00:00",
          "2024-03-03T14:30:00+00:00",
          "2024-03-03T16:30:00+00:00",
          "2024-03-08T19:30:00+00:00",
          "2024-03-09T14:30:00+00:00",
          "2024-03-09T17:30:00+00:00",
          "2024-03-10T14:30:00+00:00",
          "2024-03-10T16:30:00+00:00",
          "2024-03-10T18:30:00+00:00",
          "2024-03-15T19:30:00+00:00",
          "2024-03-16T14:30:00+00:00",
          "2024-03-16T17:30:00+00:00",
          "2024-03-17T14:30:00+00:00",
          "2024-03-17T16:30:00+00:00",
          "2024-03-30T14:30:00+00:00",
          "2024-03-30T17:30:00+00:00",
          "2024-03-31T13:30:00+00:00",
          "2024-03-31T15:30:00+00:00",
          "2024-03-31T17:30:00+00:00",
          "2024-04-05T18:30:00+00:00",
          "2024-04-06T13:30:00+00:00",
          "2024-04-06T16:30:00+00:00",
          "2024-04-07T13:30:00+00:00",
          "2024-04-07T15:30:00+00:00",
          "2024-04-12T18:30:00+00:00",
          "2024-04-13T13:30:00+00:00",
          "2024-04-13T16:30:00+00:00",
          "2024-04-14T13:30:00+00:00",
          "2024-04-14T15:30:00+00:00",
          "2024-04-19T18:30:00+00:00",
          "2024-04-20T13:30:00+00:00",
          "2024-04-20T16:30:00+00:00",
          "2024-04-21T13:30:00+00:00",
          "2024-04-21T15:30:00+00:00",
          "2024-04-21T17:30:00+00:00",
          "2024-04-26T18:30:00+00:00",
          "2024-04-27T13:30:00+00:00",
          "2024-04-27T16:30:00+00:00",
          "2024-04-28T13:30:00+00:00",
          "2024-04-28T15:30:00+00:00",
          "2024-04-28T17:30:00+00:00",
          "2024-05-03T18:30:00+00:00",
          "2024-05-04T13:30:00+00:00",
          "2024-05-04T16:30:00+00:00",
          "2024-05-05T13:30:00+00:00",
          "2024-05-05T15:30:00+00:00",
          "2024-05-05T17:30:00+00:00",
          "2024-05-10T18:30:00+00:00",
          "2024-05-11T13:30:00+00:00",
          "2024-05-11T16:30:00+00:00",
          "2024-05-12T13:30:00+00:00",
          "2024-05-12T15:30:00+00:00",
          "2024-05-12T17:30:00+00:00",
          "2024-05-18T13:30:00+00:00"
         ],
         "xaxis": "x",
         "y": [
          1,
          1,
          1,
          1,
          1,
          4,
          1,
          1,
          1,
          1,
          1,
          1,
          1,
          1,
          1,
          1,
          1,
          1,
          1,
          2,
          5,
          5,
          1,
          1,
          1,
          1,
          1,
          1,
          1,
          1,
          2,
          2,
          1,
          1,
          1,
          1,
          1,
          1,
          1,
          1,
          1,
          1,
          1,
          1,
          1,
          1,
          1,
          1,
          1,
          1,
          1,
          1,
          1,
          1,
          1,
          1,
          1,
          1,
          1,
          1,
          1,
          1,
          1,
          1,
          1,
          1,
          1,
          1,
          1,
          1,
          1,
          1,
          1,
          1,
          1,
          1,
          1,
          1,
          1,
          1,
          1,
          1,
          1,
          1,
          1,
          1,
          1,
          1,
          1,
          1,
          1,
          1,
          1,
          1,
          1,
          1,
          1,
          1,
          1,
          1,
          1,
          1,
          1,
          1,
          1,
          1,
          1,
          1,
          1,
          1,
          1,
          1,
          1,
          1,
          1,
          1,
          1,
          1,
          1,
          1,
          1,
          1,
          1,
          1,
          1,
          1,
          1,
          1,
          1,
          1,
          1,
          1,
          1,
          1,
          1,
          1,
          1,
          1,
          1,
          1,
          1,
          1,
          1,
          1,
          1,
          1,
          1,
          1,
          1,
          1,
          1,
          1,
          1,
          1,
          1,
          1,
          1,
          1,
          1,
          1,
          1,
          1,
          1,
          1,
          1,
          1,
          1,
          1,
          1,
          1,
          1,
          1,
          1,
          1,
          1
         ],
         "yaxis": "y"
        },
        {
         "hovertemplate": "Team=Borussia Dortmund<br>Data=%{x}<br>Posição=%{y}<extra></extra>",
         "legendgroup": "Borussia Dortmund",
         "line": {
          "color": "#EF553B",
          "dash": "solid"
         },
         "marker": {
          "symbol": "circle"
         },
         "mode": "lines+markers",
         "name": "Borussia Dortmund",
         "orientation": "v",
         "showlegend": true,
         "type": "scatter",
         "x": [
          "2023-08-19T16:30:00+00:00",
          "2023-08-20T13:30:00+00:00",
          "2023-08-20T15:30:00+00:00",
          "2023-08-25T18:30:00+00:00",
          "2023-08-26T13:30:00+00:00",
          "2023-08-26T16:30:00+00:00",
          "2023-08-27T13:30:00+00:00",
          "2023-08-27T15:30:00+00:00",
          "2023-09-01T18:30:00+00:00",
          "2023-09-02T13:30:00+00:00",
          "2023-09-02T16:30:00+00:00",
          "2023-09-03T13:30:00+00:00",
          "2023-09-03T15:30:00+00:00",
          "2023-09-15T18:30:00+00:00",
          "2023-09-16T13:30:00+00:00",
          "2023-09-16T16:30:00+00:00",
          "2023-09-17T13:30:00+00:00",
          "2023-09-17T15:30:00+00:00",
          "2023-09-22T18:30:00+00:00",
          "2023-09-23T13:30:00+00:00",
          "2023-09-23T16:30:00+00:00",
          "2023-09-24T13:30:00+00:00",
          "2023-09-24T15:30:00+00:00",
          "2023-09-29T18:30:00+00:00",
          "2023-09-30T13:30:00+00:00",
          "2023-09-30T16:30:00+00:00",
          "2023-10-01T13:30:00+00:00",
          "2023-10-01T15:30:00+00:00",
          "2023-10-06T18:30:00+00:00",
          "2023-10-07T13:30:00+00:00",
          "2023-10-07T16:30:00+00:00",
          "2023-10-08T13:30:00+00:00",
          "2023-10-08T15:30:00+00:00",
          "2023-10-08T17:30:00+00:00",
          "2023-10-20T18:30:00+00:00",
          "2023-10-21T13:30:00+00:00",
          "2023-10-21T16:30:00+00:00",
          "2023-10-22T13:30:00+00:00",
          "2023-10-22T15:30:00+00:00",
          "2023-10-27T18:30:00+00:00",
          "2023-10-28T13:30:00+00:00",
          "2023-10-28T16:30:00+00:00",
          "2023-10-29T14:30:00+00:00",
          "2023-10-29T16:30:00+00:00",
          "2023-11-03T19:30:00+00:00",
          "2023-11-04T14:30:00+00:00",
          "2023-11-04T17:30:00+00:00",
          "2023-11-05T14:30:00+00:00",
          "2023-11-05T16:30:00+00:00",
          "2023-11-10T19:30:00+00:00",
          "2023-11-11T14:30:00+00:00",
          "2023-11-11T17:30:00+00:00",
          "2023-11-12T14:30:00+00:00",
          "2023-11-12T16:30:00+00:00",
          "2023-11-12T18:30:00+00:00",
          "2023-11-24T19:30:00+00:00",
          "2023-11-25T14:30:00+00:00",
          "2023-11-25T17:30:00+00:00",
          "2023-11-26T14:30:00+00:00",
          "2023-11-26T16:30:00+00:00",
          "2023-12-01T19:30:00+00:00",
          "2023-12-02T14:30:00+00:00",
          "2023-12-02T17:30:00+00:00",
          "2023-12-03T14:30:00+00:00",
          "2023-12-03T16:30:00+00:00",
          "2023-12-03T18:30:00+00:00",
          "2023-12-08T19:30:00+00:00",
          "2023-12-09T14:30:00+00:00",
          "2023-12-09T17:30:00+00:00",
          "2023-12-10T14:30:00+00:00",
          "2023-12-10T16:30:00+00:00",
          "2023-12-15T19:30:00+00:00",
          "2023-12-16T14:30:00+00:00",
          "2023-12-16T17:30:00+00:00",
          "2023-12-17T14:30:00+00:00",
          "2023-12-17T16:30:00+00:00",
          "2023-12-17T18:30:00+00:00",
          "2023-12-19T17:30:00+00:00",
          "2023-12-19T19:30:00+00:00",
          "2023-12-20T17:30:00+00:00",
          "2023-12-20T19:30:00+00:00",
          "2024-01-12T19:30:00+00:00",
          "2024-01-13T14:30:00+00:00",
          "2024-01-13T17:30:00+00:00",
          "2024-01-14T14:30:00+00:00",
          "2024-01-14T16:30:00+00:00",
          "2024-01-20T14:30:00+00:00",
          "2024-01-20T17:30:00+00:00",
          "2024-01-21T14:30:00+00:00",
          "2024-01-21T16:30:00+00:00",
          "2024-01-24T19:30:00+00:00",
          "2024-01-26T19:30:00+00:00",
          "2024-01-27T14:30:00+00:00",
          "2024-01-27T17:30:00+00:00",
          "2024-01-28T14:30:00+00:00",
          "2024-01-28T16:30:00+00:00",
          "2024-02-02T19:30:00+00:00",
          "2024-02-03T14:30:00+00:00",
          "2024-02-03T17:30:00+00:00",
          "2024-02-04T14:30:00+00:00",
          "2024-02-04T16:30:00+00:00",
          "2024-02-07T17:30:00+00:00",
          "2024-02-09T19:30:00+00:00",
          "2024-02-10T14:30:00+00:00",
          "2024-02-10T17:30:00+00:00",
          "2024-02-11T14:30:00+00:00",
          "2024-02-11T16:30:00+00:00",
          "2024-02-16T19:30:00+00:00",
          "2024-02-17T14:30:00+00:00",
          "2024-02-17T17:30:00+00:00",
          "2024-02-18T14:30:00+00:00",
          "2024-02-18T16:30:00+00:00",
          "2024-02-23T19:30:00+00:00",
          "2024-02-24T14:30:00+00:00",
          "2024-02-24T17:30:00+00:00",
          "2024-02-25T14:30:00+00:00",
          "2024-02-25T16:30:00+00:00",
          "2024-02-25T18:30:00+00:00",
          "2024-03-01T19:30:00+00:00",
          "2024-03-02T14:30:00+00:00",
          "2024-03-02T17:30:00+00:00",
          "2024-03-03T14:30:00+00:00",
          "2024-03-03T16:30:00+00:00",
          "2024-03-08T19:30:00+00:00",
          "2024-03-09T14:30:00+00:00",
          "2024-03-09T17:30:00+00:00",
          "2024-03-10T14:30:00+00:00",
          "2024-03-10T16:30:00+00:00",
          "2024-03-10T18:30:00+00:00",
          "2024-03-15T19:30:00+00:00",
          "2024-03-16T14:30:00+00:00",
          "2024-03-16T17:30:00+00:00",
          "2024-03-17T14:30:00+00:00",
          "2024-03-17T16:30:00+00:00",
          "2024-03-30T14:30:00+00:00",
          "2024-03-30T17:30:00+00:00",
          "2024-03-31T13:30:00+00:00",
          "2024-03-31T15:30:00+00:00",
          "2024-03-31T17:30:00+00:00",
          "2024-04-05T18:30:00+00:00",
          "2024-04-06T13:30:00+00:00",
          "2024-04-06T16:30:00+00:00",
          "2024-04-07T13:30:00+00:00",
          "2024-04-07T15:30:00+00:00",
          "2024-04-12T18:30:00+00:00",
          "2024-04-13T13:30:00+00:00",
          "2024-04-13T16:30:00+00:00",
          "2024-04-14T13:30:00+00:00",
          "2024-04-14T15:30:00+00:00",
          "2024-04-19T18:30:00+00:00",
          "2024-04-20T13:30:00+00:00",
          "2024-04-20T16:30:00+00:00",
          "2024-04-21T13:30:00+00:00",
          "2024-04-21T15:30:00+00:00",
          "2024-04-21T17:30:00+00:00",
          "2024-04-26T18:30:00+00:00",
          "2024-04-27T13:30:00+00:00",
          "2024-04-27T16:30:00+00:00",
          "2024-04-28T13:30:00+00:00",
          "2024-04-28T15:30:00+00:00",
          "2024-04-28T17:30:00+00:00",
          "2024-05-03T18:30:00+00:00",
          "2024-05-04T13:30:00+00:00",
          "2024-05-04T16:30:00+00:00",
          "2024-05-05T13:30:00+00:00",
          "2024-05-05T15:30:00+00:00",
          "2024-05-05T17:30:00+00:00",
          "2024-05-10T18:30:00+00:00",
          "2024-05-11T13:30:00+00:00",
          "2024-05-11T16:30:00+00:00",
          "2024-05-12T13:30:00+00:00",
          "2024-05-12T15:30:00+00:00",
          "2024-05-12T17:30:00+00:00",
          "2024-05-18T13:30:00+00:00"
         ],
         "xaxis": "x",
         "y": [
          1,
          1,
          1,
          1,
          4,
          5,
          5,
          6,
          6,
          8,
          8,
          8,
          9,
          9,
          7,
          7,
          7,
          7,
          7,
          5,
          5,
          6,
          6,
          1,
          3,
          3,
          3,
          3,
          3,
          2,
          2,
          3,
          3,
          3,
          1,
          3,
          3,
          3,
          3,
          3,
          4,
          4,
          4,
          4,
          4,
          4,
          4,
          4,
          4,
          4,
          4,
          4,
          4,
          4,
          5,
          5,
          4,
          4,
          4,
          4,
          4,
          5,
          5,
          5,
          5,
          5,
          5,
          5,
          5,
          5,
          5,
          5,
          5,
          5,
          5,
          5,
          5,
          5,
          5,
          5,
          5,
          5,
          5,
          5,
          5,
          5,
          5,
          5,
          5,
          5,
          5,
          5,
          5,
          5,
          5,
          4,
          4,
          4,
          4,
          4,
          5,
          5,
          4,
          4,
          4,
          4,
          4,
          4,
          4,
          5,
          5,
          5,
          5,
          5,
          5,
          5,
          5,
          5,
          5,
          5,
          5,
          5,
          5,
          5,
          5,
          5,
          5,
          5,
          5,
          5,
          5,
          5,
          5,
          5,
          5,
          4,
          4,
          4,
          4,
          4,
          5,
          5,
          5,
          5,
          5,
          5,
          5,
          5,
          5,
          5,
          5,
          5,
          5,
          5,
          5,
          5,
          5,
          5,
          5,
          5,
          5,
          5,
          5,
          5,
          5,
          5,
          5,
          5,
          5,
          5,
          5,
          5,
          5,
          5
         ],
         "yaxis": "y"
        }
       ],
       "layout": {
        "legend": {
         "title": {
          "text": "Team"
         },
         "tracegroupgap": 0
        },
        "template": {
         "data": {
          "bar": [
           {
            "error_x": {
             "color": "#2a3f5f"
            },
            "error_y": {
             "color": "#2a3f5f"
            },
            "marker": {
             "line": {
              "color": "#E5ECF6",
              "width": 0.5
             },
             "pattern": {
              "fillmode": "overlay",
              "size": 10,
              "solidity": 0.2
             }
            },
            "type": "bar"
           }
          ],
          "barpolar": [
           {
            "marker": {
             "line": {
              "color": "#E5ECF6",
              "width": 0.5
             },
             "pattern": {
              "fillmode": "overlay",
              "size": 10,
              "solidity": 0.2
             }
            },
            "type": "barpolar"
           }
          ],
          "carpet": [
           {
            "aaxis": {
             "endlinecolor": "#2a3f5f",
             "gridcolor": "white",
             "linecolor": "white",
             "minorgridcolor": "white",
             "startlinecolor": "#2a3f5f"
            },
            "baxis": {
             "endlinecolor": "#2a3f5f",
             "gridcolor": "white",
             "linecolor": "white",
             "minorgridcolor": "white",
             "startlinecolor": "#2a3f5f"
            },
            "type": "carpet"
           }
          ],
          "choropleth": [
           {
            "colorbar": {
             "outlinewidth": 0,
             "ticks": ""
            },
            "type": "choropleth"
           }
          ],
          "contour": [
           {
            "colorbar": {
             "outlinewidth": 0,
             "ticks": ""
            },
            "colorscale": [
             [
              0,
              "#0d0887"
             ],
             [
              0.1111111111111111,
              "#46039f"
             ],
             [
              0.2222222222222222,
              "#7201a8"
             ],
             [
              0.3333333333333333,
              "#9c179e"
             ],
             [
              0.4444444444444444,
              "#bd3786"
             ],
             [
              0.5555555555555556,
              "#d8576b"
             ],
             [
              0.6666666666666666,
              "#ed7953"
             ],
             [
              0.7777777777777778,
              "#fb9f3a"
             ],
             [
              0.8888888888888888,
              "#fdca26"
             ],
             [
              1,
              "#f0f921"
             ]
            ],
            "type": "contour"
           }
          ],
          "contourcarpet": [
           {
            "colorbar": {
             "outlinewidth": 0,
             "ticks": ""
            },
            "type": "contourcarpet"
           }
          ],
          "heatmap": [
           {
            "colorbar": {
             "outlinewidth": 0,
             "ticks": ""
            },
            "colorscale": [
             [
              0,
              "#0d0887"
             ],
             [
              0.1111111111111111,
              "#46039f"
             ],
             [
              0.2222222222222222,
              "#7201a8"
             ],
             [
              0.3333333333333333,
              "#9c179e"
             ],
             [
              0.4444444444444444,
              "#bd3786"
             ],
             [
              0.5555555555555556,
              "#d8576b"
             ],
             [
              0.6666666666666666,
              "#ed7953"
             ],
             [
              0.7777777777777778,
              "#fb9f3a"
             ],
             [
              0.8888888888888888,
              "#fdca26"
             ],
             [
              1,
              "#f0f921"
             ]
            ],
            "type": "heatmap"
           }
          ],
          "heatmapgl": [
           {
            "colorbar": {
             "outlinewidth": 0,
             "ticks": ""
            },
            "colorscale": [
             [
              0,
              "#0d0887"
             ],
             [
              0.1111111111111111,
              "#46039f"
             ],
             [
              0.2222222222222222,
              "#7201a8"
             ],
             [
              0.3333333333333333,
              "#9c179e"
             ],
             [
              0.4444444444444444,
              "#bd3786"
             ],
             [
              0.5555555555555556,
              "#d8576b"
             ],
             [
              0.6666666666666666,
              "#ed7953"
             ],
             [
              0.7777777777777778,
              "#fb9f3a"
             ],
             [
              0.8888888888888888,
              "#fdca26"
             ],
             [
              1,
              "#f0f921"
             ]
            ],
            "type": "heatmapgl"
           }
          ],
          "histogram": [
           {
            "marker": {
             "pattern": {
              "fillmode": "overlay",
              "size": 10,
              "solidity": 0.2
             }
            },
            "type": "histogram"
           }
          ],
          "histogram2d": [
           {
            "colorbar": {
             "outlinewidth": 0,
             "ticks": ""
            },
            "colorscale": [
             [
              0,
              "#0d0887"
             ],
             [
              0.1111111111111111,
              "#46039f"
             ],
             [
              0.2222222222222222,
              "#7201a8"
             ],
             [
              0.3333333333333333,
              "#9c179e"
             ],
             [
              0.4444444444444444,
              "#bd3786"
             ],
             [
              0.5555555555555556,
              "#d8576b"
             ],
             [
              0.6666666666666666,
              "#ed7953"
             ],
             [
              0.7777777777777778,
              "#fb9f3a"
             ],
             [
              0.8888888888888888,
              "#fdca26"
             ],
             [
              1,
              "#f0f921"
             ]
            ],
            "type": "histogram2d"
           }
          ],
          "histogram2dcontour": [
           {
            "colorbar": {
             "outlinewidth": 0,
             "ticks": ""
            },
            "colorscale": [
             [
              0,
              "#0d0887"
             ],
             [
              0.1111111111111111,
              "#46039f"
             ],
             [
              0.2222222222222222,
              "#7201a8"
             ],
             [
              0.3333333333333333,
              "#9c179e"
             ],
             [
              0.4444444444444444,
              "#bd3786"
             ],
             [
              0.5555555555555556,
              "#d8576b"
             ],
             [
              0.6666666666666666,
              "#ed7953"
             ],
             [
              0.7777777777777778,
              "#fb9f3a"
             ],
             [
              0.8888888888888888,
              "#fdca26"
             ],
             [
              1,
              "#f0f921"
             ]
            ],
            "type": "histogram2dcontour"
           }
          ],
          "mesh3d": [
           {
            "colorbar": {
             "outlinewidth": 0,
             "ticks": ""
            },
            "type": "mesh3d"
           }
          ],
          "parcoords": [
           {
            "line": {
             "colorbar": {
              "outlinewidth": 0,
              "ticks": ""
             }
            },
            "type": "parcoords"
           }
          ],
          "pie": [
           {
            "automargin": true,
            "type": "pie"
           }
          ],
          "scatter": [
           {
            "fillpattern": {
             "fillmode": "overlay",
             "size": 10,
             "solidity": 0.2
            },
            "type": "scatter"
           }
          ],
          "scatter3d": [
           {
            "line": {
             "colorbar": {
              "outlinewidth": 0,
              "ticks": ""
             }
            },
            "marker": {
             "colorbar": {
              "outlinewidth": 0,
              "ticks": ""
             }
            },
            "type": "scatter3d"
           }
          ],
          "scattercarpet": [
           {
            "marker": {
             "colorbar": {
              "outlinewidth": 0,
              "ticks": ""
             }
            },
            "type": "scattercarpet"
           }
          ],
          "scattergeo": [
           {
            "marker": {
             "colorbar": {
              "outlinewidth": 0,
              "ticks": ""
             }
            },
            "type": "scattergeo"
           }
          ],
          "scattergl": [
           {
            "marker": {
             "colorbar": {
              "outlinewidth": 0,
              "ticks": ""
             }
            },
            "type": "scattergl"
           }
          ],
          "scattermapbox": [
           {
            "marker": {
             "colorbar": {
              "outlinewidth": 0,
              "ticks": ""
             }
            },
            "type": "scattermapbox"
           }
          ],
          "scatterpolar": [
           {
            "marker": {
             "colorbar": {
              "outlinewidth": 0,
              "ticks": ""
             }
            },
            "type": "scatterpolar"
           }
          ],
          "scatterpolargl": [
           {
            "marker": {
             "colorbar": {
              "outlinewidth": 0,
              "ticks": ""
             }
            },
            "type": "scatterpolargl"
           }
          ],
          "scatterternary": [
           {
            "marker": {
             "colorbar": {
              "outlinewidth": 0,
              "ticks": ""
             }
            },
            "type": "scatterternary"
           }
          ],
          "surface": [
           {
            "colorbar": {
             "outlinewidth": 0,
             "ticks": ""
            },
            "colorscale": [
             [
              0,
              "#0d0887"
             ],
             [
              0.1111111111111111,
              "#46039f"
             ],
             [
              0.2222222222222222,
              "#7201a8"
             ],
             [
              0.3333333333333333,
              "#9c179e"
             ],
             [
              0.4444444444444444,
              "#bd3786"
             ],
             [
              0.5555555555555556,
              "#d8576b"
             ],
             [
              0.6666666666666666,
              "#ed7953"
             ],
             [
              0.7777777777777778,
              "#fb9f3a"
             ],
             [
              0.8888888888888888,
              "#fdca26"
             ],
             [
              1,
              "#f0f921"
             ]
            ],
            "type": "surface"
           }
          ],
          "table": [
           {
            "cells": {
             "fill": {
              "color": "#EBF0F8"
             },
             "line": {
              "color": "white"
             }
            },
            "header": {
             "fill": {
              "color": "#C8D4E3"
             },
             "line": {
              "color": "white"
             }
            },
            "type": "table"
           }
          ]
         },
         "layout": {
          "annotationdefaults": {
           "arrowcolor": "#2a3f5f",
           "arrowhead": 0,
           "arrowwidth": 1
          },
          "autotypenumbers": "strict",
          "coloraxis": {
           "colorbar": {
            "outlinewidth": 0,
            "ticks": ""
           }
          },
          "colorscale": {
           "diverging": [
            [
             0,
             "#8e0152"
            ],
            [
             0.1,
             "#c51b7d"
            ],
            [
             0.2,
             "#de77ae"
            ],
            [
             0.3,
             "#f1b6da"
            ],
            [
             0.4,
             "#fde0ef"
            ],
            [
             0.5,
             "#f7f7f7"
            ],
            [
             0.6,
             "#e6f5d0"
            ],
            [
             0.7,
             "#b8e186"
            ],
            [
             0.8,
             "#7fbc41"
            ],
            [
             0.9,
             "#4d9221"
            ],
            [
             1,
             "#276419"
            ]
           ],
           "sequential": [
            [
             0,
             "#0d0887"
            ],
            [
             0.1111111111111111,
             "#46039f"
            ],
            [
             0.2222222222222222,
             "#7201a8"
            ],
            [
             0.3333333333333333,
             "#9c179e"
            ],
            [
             0.4444444444444444,
             "#bd3786"
            ],
            [
             0.5555555555555556,
             "#d8576b"
            ],
            [
             0.6666666666666666,
             "#ed7953"
            ],
            [
             0.7777777777777778,
             "#fb9f3a"
            ],
            [
             0.8888888888888888,
             "#fdca26"
            ],
            [
             1,
             "#f0f921"
            ]
           ],
           "sequentialminus": [
            [
             0,
             "#0d0887"
            ],
            [
             0.1111111111111111,
             "#46039f"
            ],
            [
             0.2222222222222222,
             "#7201a8"
            ],
            [
             0.3333333333333333,
             "#9c179e"
            ],
            [
             0.4444444444444444,
             "#bd3786"
            ],
            [
             0.5555555555555556,
             "#d8576b"
            ],
            [
             0.6666666666666666,
             "#ed7953"
            ],
            [
             0.7777777777777778,
             "#fb9f3a"
            ],
            [
             0.8888888888888888,
             "#fdca26"
            ],
            [
             1,
             "#f0f921"
            ]
           ]
          },
          "colorway": [
           "#636efa",
           "#EF553B",
           "#00cc96",
           "#ab63fa",
           "#FFA15A",
           "#19d3f3",
           "#FF6692",
           "#B6E880",
           "#FF97FF",
           "#FECB52"
          ],
          "font": {
           "color": "#2a3f5f"
          },
          "geo": {
           "bgcolor": "white",
           "lakecolor": "white",
           "landcolor": "#E5ECF6",
           "showlakes": true,
           "showland": true,
           "subunitcolor": "white"
          },
          "hoverlabel": {
           "align": "left"
          },
          "hovermode": "closest",
          "mapbox": {
           "style": "light"
          },
          "paper_bgcolor": "white",
          "plot_bgcolor": "#E5ECF6",
          "polar": {
           "angularaxis": {
            "gridcolor": "white",
            "linecolor": "white",
            "ticks": ""
           },
           "bgcolor": "#E5ECF6",
           "radialaxis": {
            "gridcolor": "white",
            "linecolor": "white",
            "ticks": ""
           }
          },
          "scene": {
           "xaxis": {
            "backgroundcolor": "#E5ECF6",
            "gridcolor": "white",
            "gridwidth": 2,
            "linecolor": "white",
            "showbackground": true,
            "ticks": "",
            "zerolinecolor": "white"
           },
           "yaxis": {
            "backgroundcolor": "#E5ECF6",
            "gridcolor": "white",
            "gridwidth": 2,
            "linecolor": "white",
            "showbackground": true,
            "ticks": "",
            "zerolinecolor": "white"
           },
           "zaxis": {
            "backgroundcolor": "#E5ECF6",
            "gridcolor": "white",
            "gridwidth": 2,
            "linecolor": "white",
            "showbackground": true,
            "ticks": "",
            "zerolinecolor": "white"
           }
          },
          "shapedefaults": {
           "line": {
            "color": "#2a3f5f"
           }
          },
          "ternary": {
           "aaxis": {
            "gridcolor": "white",
            "linecolor": "white",
            "ticks": ""
           },
           "baxis": {
            "gridcolor": "white",
            "linecolor": "white",
            "ticks": ""
           },
           "bgcolor": "#E5ECF6",
           "caxis": {
            "gridcolor": "white",
            "linecolor": "white",
            "ticks": ""
           }
          },
          "title": {
           "x": 0.05
          },
          "xaxis": {
           "automargin": true,
           "gridcolor": "white",
           "linecolor": "white",
           "ticks": "",
           "title": {
            "standoff": 15
           },
           "zerolinecolor": "white",
           "zerolinewidth": 2
          },
          "yaxis": {
           "automargin": true,
           "gridcolor": "white",
           "linecolor": "white",
           "ticks": "",
           "title": {
            "standoff": 15
           },
           "zerolinecolor": "white",
           "zerolinewidth": 2
          }
         }
        },
        "title": {
         "text": "Posição dos times ao longo do campeonato"
        },
        "xaxis": {
         "anchor": "y",
         "domain": [
          0,
          1
         ],
         "title": {
          "text": "Data"
         }
        },
        "yaxis": {
         "anchor": "x",
         "autorange": "reversed",
         "domain": [
          0,
          1
         ],
         "range": [
          0,
          18
         ],
         "title": {
          "text": "Posição"
         }
        }
       }
      },
      "text/html": [
       "<div>                        <script type=\"text/javascript\">window.PlotlyConfig = {MathJaxConfig: 'local'};</script>\n",
       "        <script charset=\"utf-8\" src=\"https://cdn.plot.ly/plotly-2.35.2.min.js\"></script>                <div id=\"21a3aeaa-947a-442e-bdef-6f94ac251781\" class=\"plotly-graph-div\" style=\"height:100%; width:100%;\"></div>            <script type=\"text/javascript\">                                    window.PLOTLYENV=window.PLOTLYENV || {};                                    if (document.getElementById(\"21a3aeaa-947a-442e-bdef-6f94ac251781\")) {                    Plotly.newPlot(                        \"21a3aeaa-947a-442e-bdef-6f94ac251781\",                        [{\"hovertemplate\":\"Team=Bayer Leverkusen\\u003cbr\\u003eData=%{x}\\u003cbr\\u003ePosi\\u00e7\\u00e3o=%{y}\\u003cextra\\u003e\\u003c\\u002fextra\\u003e\",\"legendgroup\":\"Bayer Leverkusen\",\"line\":{\"color\":\"#636efa\",\"dash\":\"solid\"},\"marker\":{\"symbol\":\"circle\"},\"mode\":\"lines+markers\",\"name\":\"Bayer Leverkusen\",\"orientation\":\"v\",\"showlegend\":true,\"x\":[\"2023-08-19T13:30:00+00:00\",\"2023-08-19T16:30:00+00:00\",\"2023-08-20T13:30:00+00:00\",\"2023-08-20T15:30:00+00:00\",\"2023-08-25T18:30:00+00:00\",\"2023-08-26T13:30:00+00:00\",\"2023-08-26T16:30:00+00:00\",\"2023-08-27T13:30:00+00:00\",\"2023-08-27T15:30:00+00:00\",\"2023-09-01T18:30:00+00:00\",\"2023-09-02T13:30:00+00:00\",\"2023-09-02T16:30:00+00:00\",\"2023-09-03T13:30:00+00:00\",\"2023-09-03T15:30:00+00:00\",\"2023-09-15T18:30:00+00:00\",\"2023-09-16T13:30:00+00:00\",\"2023-09-16T16:30:00+00:00\",\"2023-09-17T13:30:00+00:00\",\"2023-09-17T15:30:00+00:00\",\"2023-09-22T18:30:00+00:00\",\"2023-09-23T13:30:00+00:00\",\"2023-09-23T16:30:00+00:00\",\"2023-09-24T13:30:00+00:00\",\"2023-09-24T15:30:00+00:00\",\"2023-09-29T18:30:00+00:00\",\"2023-09-30T13:30:00+00:00\",\"2023-09-30T16:30:00+00:00\",\"2023-10-01T13:30:00+00:00\",\"2023-10-01T15:30:00+00:00\",\"2023-10-06T18:30:00+00:00\",\"2023-10-07T13:30:00+00:00\",\"2023-10-07T16:30:00+00:00\",\"2023-10-08T13:30:00+00:00\",\"2023-10-08T15:30:00+00:00\",\"2023-10-08T17:30:00+00:00\",\"2023-10-20T18:30:00+00:00\",\"2023-10-21T13:30:00+00:00\",\"2023-10-21T16:30:00+00:00\",\"2023-10-22T13:30:00+00:00\",\"2023-10-22T15:30:00+00:00\",\"2023-10-27T18:30:00+00:00\",\"2023-10-28T13:30:00+00:00\",\"2023-10-28T16:30:00+00:00\",\"2023-10-29T14:30:00+00:00\",\"2023-10-29T16:30:00+00:00\",\"2023-11-03T19:30:00+00:00\",\"2023-11-04T14:30:00+00:00\",\"2023-11-04T17:30:00+00:00\",\"2023-11-05T14:30:00+00:00\",\"2023-11-05T16:30:00+00:00\",\"2023-11-10T19:30:00+00:00\",\"2023-11-11T14:30:00+00:00\",\"2023-11-11T17:30:00+00:00\",\"2023-11-12T14:30:00+00:00\",\"2023-11-12T16:30:00+00:00\",\"2023-11-12T18:30:00+00:00\",\"2023-11-24T19:30:00+00:00\",\"2023-11-25T14:30:00+00:00\",\"2023-11-25T17:30:00+00:00\",\"2023-11-26T14:30:00+00:00\",\"2023-11-26T16:30:00+00:00\",\"2023-12-01T19:30:00+00:00\",\"2023-12-02T14:30:00+00:00\",\"2023-12-02T17:30:00+00:00\",\"2023-12-03T14:30:00+00:00\",\"2023-12-03T16:30:00+00:00\",\"2023-12-03T18:30:00+00:00\",\"2023-12-08T19:30:00+00:00\",\"2023-12-09T14:30:00+00:00\",\"2023-12-09T17:30:00+00:00\",\"2023-12-10T14:30:00+00:00\",\"2023-12-10T16:30:00+00:00\",\"2023-12-15T19:30:00+00:00\",\"2023-12-16T14:30:00+00:00\",\"2023-12-16T17:30:00+00:00\",\"2023-12-17T14:30:00+00:00\",\"2023-12-17T16:30:00+00:00\",\"2023-12-17T18:30:00+00:00\",\"2023-12-19T17:30:00+00:00\",\"2023-12-19T19:30:00+00:00\",\"2023-12-20T17:30:00+00:00\",\"2023-12-20T19:30:00+00:00\",\"2024-01-12T19:30:00+00:00\",\"2024-01-13T14:30:00+00:00\",\"2024-01-13T17:30:00+00:00\",\"2024-01-14T14:30:00+00:00\",\"2024-01-14T16:30:00+00:00\",\"2024-01-20T14:30:00+00:00\",\"2024-01-20T17:30:00+00:00\",\"2024-01-21T14:30:00+00:00\",\"2024-01-21T16:30:00+00:00\",\"2024-01-24T19:30:00+00:00\",\"2024-01-26T19:30:00+00:00\",\"2024-01-27T14:30:00+00:00\",\"2024-01-27T17:30:00+00:00\",\"2024-01-28T14:30:00+00:00\",\"2024-01-28T16:30:00+00:00\",\"2024-02-02T19:30:00+00:00\",\"2024-02-03T14:30:00+00:00\",\"2024-02-03T17:30:00+00:00\",\"2024-02-04T14:30:00+00:00\",\"2024-02-04T16:30:00+00:00\",\"2024-02-07T17:30:00+00:00\",\"2024-02-09T19:30:00+00:00\",\"2024-02-10T14:30:00+00:00\",\"2024-02-10T17:30:00+00:00\",\"2024-02-11T14:30:00+00:00\",\"2024-02-11T16:30:00+00:00\",\"2024-02-16T19:30:00+00:00\",\"2024-02-17T14:30:00+00:00\",\"2024-02-17T17:30:00+00:00\",\"2024-02-18T14:30:00+00:00\",\"2024-02-18T16:30:00+00:00\",\"2024-02-23T19:30:00+00:00\",\"2024-02-24T14:30:00+00:00\",\"2024-02-24T17:30:00+00:00\",\"2024-02-25T14:30:00+00:00\",\"2024-02-25T16:30:00+00:00\",\"2024-02-25T18:30:00+00:00\",\"2024-03-01T19:30:00+00:00\",\"2024-03-02T14:30:00+00:00\",\"2024-03-02T17:30:00+00:00\",\"2024-03-03T14:30:00+00:00\",\"2024-03-03T16:30:00+00:00\",\"2024-03-08T19:30:00+00:00\",\"2024-03-09T14:30:00+00:00\",\"2024-03-09T17:30:00+00:00\",\"2024-03-10T14:30:00+00:00\",\"2024-03-10T16:30:00+00:00\",\"2024-03-10T18:30:00+00:00\",\"2024-03-15T19:30:00+00:00\",\"2024-03-16T14:30:00+00:00\",\"2024-03-16T17:30:00+00:00\",\"2024-03-17T14:30:00+00:00\",\"2024-03-17T16:30:00+00:00\",\"2024-03-30T14:30:00+00:00\",\"2024-03-30T17:30:00+00:00\",\"2024-03-31T13:30:00+00:00\",\"2024-03-31T15:30:00+00:00\",\"2024-03-31T17:30:00+00:00\",\"2024-04-05T18:30:00+00:00\",\"2024-04-06T13:30:00+00:00\",\"2024-04-06T16:30:00+00:00\",\"2024-04-07T13:30:00+00:00\",\"2024-04-07T15:30:00+00:00\",\"2024-04-12T18:30:00+00:00\",\"2024-04-13T13:30:00+00:00\",\"2024-04-13T16:30:00+00:00\",\"2024-04-14T13:30:00+00:00\",\"2024-04-14T15:30:00+00:00\",\"2024-04-19T18:30:00+00:00\",\"2024-04-20T13:30:00+00:00\",\"2024-04-20T16:30:00+00:00\",\"2024-04-21T13:30:00+00:00\",\"2024-04-21T15:30:00+00:00\",\"2024-04-21T17:30:00+00:00\",\"2024-04-26T18:30:00+00:00\",\"2024-04-27T13:30:00+00:00\",\"2024-04-27T16:30:00+00:00\",\"2024-04-28T13:30:00+00:00\",\"2024-04-28T15:30:00+00:00\",\"2024-04-28T17:30:00+00:00\",\"2024-05-03T18:30:00+00:00\",\"2024-05-04T13:30:00+00:00\",\"2024-05-04T16:30:00+00:00\",\"2024-05-05T13:30:00+00:00\",\"2024-05-05T15:30:00+00:00\",\"2024-05-05T17:30:00+00:00\",\"2024-05-10T18:30:00+00:00\",\"2024-05-11T13:30:00+00:00\",\"2024-05-11T16:30:00+00:00\",\"2024-05-12T13:30:00+00:00\",\"2024-05-12T15:30:00+00:00\",\"2024-05-12T17:30:00+00:00\",\"2024-05-18T13:30:00+00:00\"],\"xaxis\":\"x\",\"y\":[1.0,1.0,1.0,1.0,1.0,4.0,1.0,1.0,1.0,1.0,1.0,1.0,1.0,1.0,1.0,1.0,1.0,1.0,1.0,2.0,5.0,5.0,1.0,1.0,1.0,1.0,1.0,1.0,1.0,1.0,2.0,2.0,1.0,1.0,1.0,1.0,1.0,1.0,1.0,1.0,1.0,1.0,1.0,1.0,1.0,1.0,1.0,1.0,1.0,1.0,1.0,1.0,1.0,1.0,1.0,1.0,1.0,1.0,1.0,1.0,1.0,1.0,1.0,1.0,1.0,1.0,1.0,1.0,1.0,1.0,1.0,1.0,1.0,1.0,1.0,1.0,1.0,1.0,1.0,1.0,1.0,1.0,1.0,1.0,1.0,1.0,1.0,1.0,1.0,1.0,1.0,1.0,1.0,1.0,1.0,1.0,1.0,1.0,1.0,1.0,1.0,1.0,1.0,1.0,1.0,1.0,1.0,1.0,1.0,1.0,1.0,1.0,1.0,1.0,1.0,1.0,1.0,1.0,1.0,1.0,1.0,1.0,1.0,1.0,1.0,1.0,1.0,1.0,1.0,1.0,1.0,1.0,1.0,1.0,1.0,1.0,1.0,1.0,1.0,1.0,1.0,1.0,1.0,1.0,1.0,1.0,1.0,1.0,1.0,1.0,1.0,1.0,1.0,1.0,1.0,1.0,1.0,1.0,1.0,1.0,1.0,1.0,1.0,1.0,1.0,1.0,1.0,1.0,1.0,1.0,1.0,1.0,1.0,1.0,1.0],\"yaxis\":\"y\",\"type\":\"scatter\"},{\"hovertemplate\":\"Team=Borussia Dortmund\\u003cbr\\u003eData=%{x}\\u003cbr\\u003ePosi\\u00e7\\u00e3o=%{y}\\u003cextra\\u003e\\u003c\\u002fextra\\u003e\",\"legendgroup\":\"Borussia Dortmund\",\"line\":{\"color\":\"#EF553B\",\"dash\":\"solid\"},\"marker\":{\"symbol\":\"circle\"},\"mode\":\"lines+markers\",\"name\":\"Borussia Dortmund\",\"orientation\":\"v\",\"showlegend\":true,\"x\":[\"2023-08-19T16:30:00+00:00\",\"2023-08-20T13:30:00+00:00\",\"2023-08-20T15:30:00+00:00\",\"2023-08-25T18:30:00+00:00\",\"2023-08-26T13:30:00+00:00\",\"2023-08-26T16:30:00+00:00\",\"2023-08-27T13:30:00+00:00\",\"2023-08-27T15:30:00+00:00\",\"2023-09-01T18:30:00+00:00\",\"2023-09-02T13:30:00+00:00\",\"2023-09-02T16:30:00+00:00\",\"2023-09-03T13:30:00+00:00\",\"2023-09-03T15:30:00+00:00\",\"2023-09-15T18:30:00+00:00\",\"2023-09-16T13:30:00+00:00\",\"2023-09-16T16:30:00+00:00\",\"2023-09-17T13:30:00+00:00\",\"2023-09-17T15:30:00+00:00\",\"2023-09-22T18:30:00+00:00\",\"2023-09-23T13:30:00+00:00\",\"2023-09-23T16:30:00+00:00\",\"2023-09-24T13:30:00+00:00\",\"2023-09-24T15:30:00+00:00\",\"2023-09-29T18:30:00+00:00\",\"2023-09-30T13:30:00+00:00\",\"2023-09-30T16:30:00+00:00\",\"2023-10-01T13:30:00+00:00\",\"2023-10-01T15:30:00+00:00\",\"2023-10-06T18:30:00+00:00\",\"2023-10-07T13:30:00+00:00\",\"2023-10-07T16:30:00+00:00\",\"2023-10-08T13:30:00+00:00\",\"2023-10-08T15:30:00+00:00\",\"2023-10-08T17:30:00+00:00\",\"2023-10-20T18:30:00+00:00\",\"2023-10-21T13:30:00+00:00\",\"2023-10-21T16:30:00+00:00\",\"2023-10-22T13:30:00+00:00\",\"2023-10-22T15:30:00+00:00\",\"2023-10-27T18:30:00+00:00\",\"2023-10-28T13:30:00+00:00\",\"2023-10-28T16:30:00+00:00\",\"2023-10-29T14:30:00+00:00\",\"2023-10-29T16:30:00+00:00\",\"2023-11-03T19:30:00+00:00\",\"2023-11-04T14:30:00+00:00\",\"2023-11-04T17:30:00+00:00\",\"2023-11-05T14:30:00+00:00\",\"2023-11-05T16:30:00+00:00\",\"2023-11-10T19:30:00+00:00\",\"2023-11-11T14:30:00+00:00\",\"2023-11-11T17:30:00+00:00\",\"2023-11-12T14:30:00+00:00\",\"2023-11-12T16:30:00+00:00\",\"2023-11-12T18:30:00+00:00\",\"2023-11-24T19:30:00+00:00\",\"2023-11-25T14:30:00+00:00\",\"2023-11-25T17:30:00+00:00\",\"2023-11-26T14:30:00+00:00\",\"2023-11-26T16:30:00+00:00\",\"2023-12-01T19:30:00+00:00\",\"2023-12-02T14:30:00+00:00\",\"2023-12-02T17:30:00+00:00\",\"2023-12-03T14:30:00+00:00\",\"2023-12-03T16:30:00+00:00\",\"2023-12-03T18:30:00+00:00\",\"2023-12-08T19:30:00+00:00\",\"2023-12-09T14:30:00+00:00\",\"2023-12-09T17:30:00+00:00\",\"2023-12-10T14:30:00+00:00\",\"2023-12-10T16:30:00+00:00\",\"2023-12-15T19:30:00+00:00\",\"2023-12-16T14:30:00+00:00\",\"2023-12-16T17:30:00+00:00\",\"2023-12-17T14:30:00+00:00\",\"2023-12-17T16:30:00+00:00\",\"2023-12-17T18:30:00+00:00\",\"2023-12-19T17:30:00+00:00\",\"2023-12-19T19:30:00+00:00\",\"2023-12-20T17:30:00+00:00\",\"2023-12-20T19:30:00+00:00\",\"2024-01-12T19:30:00+00:00\",\"2024-01-13T14:30:00+00:00\",\"2024-01-13T17:30:00+00:00\",\"2024-01-14T14:30:00+00:00\",\"2024-01-14T16:30:00+00:00\",\"2024-01-20T14:30:00+00:00\",\"2024-01-20T17:30:00+00:00\",\"2024-01-21T14:30:00+00:00\",\"2024-01-21T16:30:00+00:00\",\"2024-01-24T19:30:00+00:00\",\"2024-01-26T19:30:00+00:00\",\"2024-01-27T14:30:00+00:00\",\"2024-01-27T17:30:00+00:00\",\"2024-01-28T14:30:00+00:00\",\"2024-01-28T16:30:00+00:00\",\"2024-02-02T19:30:00+00:00\",\"2024-02-03T14:30:00+00:00\",\"2024-02-03T17:30:00+00:00\",\"2024-02-04T14:30:00+00:00\",\"2024-02-04T16:30:00+00:00\",\"2024-02-07T17:30:00+00:00\",\"2024-02-09T19:30:00+00:00\",\"2024-02-10T14:30:00+00:00\",\"2024-02-10T17:30:00+00:00\",\"2024-02-11T14:30:00+00:00\",\"2024-02-11T16:30:00+00:00\",\"2024-02-16T19:30:00+00:00\",\"2024-02-17T14:30:00+00:00\",\"2024-02-17T17:30:00+00:00\",\"2024-02-18T14:30:00+00:00\",\"2024-02-18T16:30:00+00:00\",\"2024-02-23T19:30:00+00:00\",\"2024-02-24T14:30:00+00:00\",\"2024-02-24T17:30:00+00:00\",\"2024-02-25T14:30:00+00:00\",\"2024-02-25T16:30:00+00:00\",\"2024-02-25T18:30:00+00:00\",\"2024-03-01T19:30:00+00:00\",\"2024-03-02T14:30:00+00:00\",\"2024-03-02T17:30:00+00:00\",\"2024-03-03T14:30:00+00:00\",\"2024-03-03T16:30:00+00:00\",\"2024-03-08T19:30:00+00:00\",\"2024-03-09T14:30:00+00:00\",\"2024-03-09T17:30:00+00:00\",\"2024-03-10T14:30:00+00:00\",\"2024-03-10T16:30:00+00:00\",\"2024-03-10T18:30:00+00:00\",\"2024-03-15T19:30:00+00:00\",\"2024-03-16T14:30:00+00:00\",\"2024-03-16T17:30:00+00:00\",\"2024-03-17T14:30:00+00:00\",\"2024-03-17T16:30:00+00:00\",\"2024-03-30T14:30:00+00:00\",\"2024-03-30T17:30:00+00:00\",\"2024-03-31T13:30:00+00:00\",\"2024-03-31T15:30:00+00:00\",\"2024-03-31T17:30:00+00:00\",\"2024-04-05T18:30:00+00:00\",\"2024-04-06T13:30:00+00:00\",\"2024-04-06T16:30:00+00:00\",\"2024-04-07T13:30:00+00:00\",\"2024-04-07T15:30:00+00:00\",\"2024-04-12T18:30:00+00:00\",\"2024-04-13T13:30:00+00:00\",\"2024-04-13T16:30:00+00:00\",\"2024-04-14T13:30:00+00:00\",\"2024-04-14T15:30:00+00:00\",\"2024-04-19T18:30:00+00:00\",\"2024-04-20T13:30:00+00:00\",\"2024-04-20T16:30:00+00:00\",\"2024-04-21T13:30:00+00:00\",\"2024-04-21T15:30:00+00:00\",\"2024-04-21T17:30:00+00:00\",\"2024-04-26T18:30:00+00:00\",\"2024-04-27T13:30:00+00:00\",\"2024-04-27T16:30:00+00:00\",\"2024-04-28T13:30:00+00:00\",\"2024-04-28T15:30:00+00:00\",\"2024-04-28T17:30:00+00:00\",\"2024-05-03T18:30:00+00:00\",\"2024-05-04T13:30:00+00:00\",\"2024-05-04T16:30:00+00:00\",\"2024-05-05T13:30:00+00:00\",\"2024-05-05T15:30:00+00:00\",\"2024-05-05T17:30:00+00:00\",\"2024-05-10T18:30:00+00:00\",\"2024-05-11T13:30:00+00:00\",\"2024-05-11T16:30:00+00:00\",\"2024-05-12T13:30:00+00:00\",\"2024-05-12T15:30:00+00:00\",\"2024-05-12T17:30:00+00:00\",\"2024-05-18T13:30:00+00:00\"],\"xaxis\":\"x\",\"y\":[1.0,1.0,1.0,1.0,4.0,5.0,5.0,6.0,6.0,8.0,8.0,8.0,9.0,9.0,7.0,7.0,7.0,7.0,7.0,5.0,5.0,6.0,6.0,1.0,3.0,3.0,3.0,3.0,3.0,2.0,2.0,3.0,3.0,3.0,1.0,3.0,3.0,3.0,3.0,3.0,4.0,4.0,4.0,4.0,4.0,4.0,4.0,4.0,4.0,4.0,4.0,4.0,4.0,4.0,5.0,5.0,4.0,4.0,4.0,4.0,4.0,5.0,5.0,5.0,5.0,5.0,5.0,5.0,5.0,5.0,5.0,5.0,5.0,5.0,5.0,5.0,5.0,5.0,5.0,5.0,5.0,5.0,5.0,5.0,5.0,5.0,5.0,5.0,5.0,5.0,5.0,5.0,5.0,5.0,5.0,4.0,4.0,4.0,4.0,4.0,5.0,5.0,4.0,4.0,4.0,4.0,4.0,4.0,4.0,5.0,5.0,5.0,5.0,5.0,5.0,5.0,5.0,5.0,5.0,5.0,5.0,5.0,5.0,5.0,5.0,5.0,5.0,5.0,5.0,5.0,5.0,5.0,5.0,5.0,5.0,4.0,4.0,4.0,4.0,4.0,5.0,5.0,5.0,5.0,5.0,5.0,5.0,5.0,5.0,5.0,5.0,5.0,5.0,5.0,5.0,5.0,5.0,5.0,5.0,5.0,5.0,5.0,5.0,5.0,5.0,5.0,5.0,5.0,5.0,5.0,5.0,5.0,5.0,5.0],\"yaxis\":\"y\",\"type\":\"scatter\"}],                        {\"template\":{\"data\":{\"histogram2dcontour\":[{\"type\":\"histogram2dcontour\",\"colorbar\":{\"outlinewidth\":0,\"ticks\":\"\"},\"colorscale\":[[0.0,\"#0d0887\"],[0.1111111111111111,\"#46039f\"],[0.2222222222222222,\"#7201a8\"],[0.3333333333333333,\"#9c179e\"],[0.4444444444444444,\"#bd3786\"],[0.5555555555555556,\"#d8576b\"],[0.6666666666666666,\"#ed7953\"],[0.7777777777777778,\"#fb9f3a\"],[0.8888888888888888,\"#fdca26\"],[1.0,\"#f0f921\"]]}],\"choropleth\":[{\"type\":\"choropleth\",\"colorbar\":{\"outlinewidth\":0,\"ticks\":\"\"}}],\"histogram2d\":[{\"type\":\"histogram2d\",\"colorbar\":{\"outlinewidth\":0,\"ticks\":\"\"},\"colorscale\":[[0.0,\"#0d0887\"],[0.1111111111111111,\"#46039f\"],[0.2222222222222222,\"#7201a8\"],[0.3333333333333333,\"#9c179e\"],[0.4444444444444444,\"#bd3786\"],[0.5555555555555556,\"#d8576b\"],[0.6666666666666666,\"#ed7953\"],[0.7777777777777778,\"#fb9f3a\"],[0.8888888888888888,\"#fdca26\"],[1.0,\"#f0f921\"]]}],\"heatmap\":[{\"type\":\"heatmap\",\"colorbar\":{\"outlinewidth\":0,\"ticks\":\"\"},\"colorscale\":[[0.0,\"#0d0887\"],[0.1111111111111111,\"#46039f\"],[0.2222222222222222,\"#7201a8\"],[0.3333333333333333,\"#9c179e\"],[0.4444444444444444,\"#bd3786\"],[0.5555555555555556,\"#d8576b\"],[0.6666666666666666,\"#ed7953\"],[0.7777777777777778,\"#fb9f3a\"],[0.8888888888888888,\"#fdca26\"],[1.0,\"#f0f921\"]]}],\"heatmapgl\":[{\"type\":\"heatmapgl\",\"colorbar\":{\"outlinewidth\":0,\"ticks\":\"\"},\"colorscale\":[[0.0,\"#0d0887\"],[0.1111111111111111,\"#46039f\"],[0.2222222222222222,\"#7201a8\"],[0.3333333333333333,\"#9c179e\"],[0.4444444444444444,\"#bd3786\"],[0.5555555555555556,\"#d8576b\"],[0.6666666666666666,\"#ed7953\"],[0.7777777777777778,\"#fb9f3a\"],[0.8888888888888888,\"#fdca26\"],[1.0,\"#f0f921\"]]}],\"contourcarpet\":[{\"type\":\"contourcarpet\",\"colorbar\":{\"outlinewidth\":0,\"ticks\":\"\"}}],\"contour\":[{\"type\":\"contour\",\"colorbar\":{\"outlinewidth\":0,\"ticks\":\"\"},\"colorscale\":[[0.0,\"#0d0887\"],[0.1111111111111111,\"#46039f\"],[0.2222222222222222,\"#7201a8\"],[0.3333333333333333,\"#9c179e\"],[0.4444444444444444,\"#bd3786\"],[0.5555555555555556,\"#d8576b\"],[0.6666666666666666,\"#ed7953\"],[0.7777777777777778,\"#fb9f3a\"],[0.8888888888888888,\"#fdca26\"],[1.0,\"#f0f921\"]]}],\"surface\":[{\"type\":\"surface\",\"colorbar\":{\"outlinewidth\":0,\"ticks\":\"\"},\"colorscale\":[[0.0,\"#0d0887\"],[0.1111111111111111,\"#46039f\"],[0.2222222222222222,\"#7201a8\"],[0.3333333333333333,\"#9c179e\"],[0.4444444444444444,\"#bd3786\"],[0.5555555555555556,\"#d8576b\"],[0.6666666666666666,\"#ed7953\"],[0.7777777777777778,\"#fb9f3a\"],[0.8888888888888888,\"#fdca26\"],[1.0,\"#f0f921\"]]}],\"mesh3d\":[{\"type\":\"mesh3d\",\"colorbar\":{\"outlinewidth\":0,\"ticks\":\"\"}}],\"scatter\":[{\"fillpattern\":{\"fillmode\":\"overlay\",\"size\":10,\"solidity\":0.2},\"type\":\"scatter\"}],\"parcoords\":[{\"type\":\"parcoords\",\"line\":{\"colorbar\":{\"outlinewidth\":0,\"ticks\":\"\"}}}],\"scatterpolargl\":[{\"type\":\"scatterpolargl\",\"marker\":{\"colorbar\":{\"outlinewidth\":0,\"ticks\":\"\"}}}],\"bar\":[{\"error_x\":{\"color\":\"#2a3f5f\"},\"error_y\":{\"color\":\"#2a3f5f\"},\"marker\":{\"line\":{\"color\":\"#E5ECF6\",\"width\":0.5},\"pattern\":{\"fillmode\":\"overlay\",\"size\":10,\"solidity\":0.2}},\"type\":\"bar\"}],\"scattergeo\":[{\"type\":\"scattergeo\",\"marker\":{\"colorbar\":{\"outlinewidth\":0,\"ticks\":\"\"}}}],\"scatterpolar\":[{\"type\":\"scatterpolar\",\"marker\":{\"colorbar\":{\"outlinewidth\":0,\"ticks\":\"\"}}}],\"histogram\":[{\"marker\":{\"pattern\":{\"fillmode\":\"overlay\",\"size\":10,\"solidity\":0.2}},\"type\":\"histogram\"}],\"scattergl\":[{\"type\":\"scattergl\",\"marker\":{\"colorbar\":{\"outlinewidth\":0,\"ticks\":\"\"}}}],\"scatter3d\":[{\"type\":\"scatter3d\",\"line\":{\"colorbar\":{\"outlinewidth\":0,\"ticks\":\"\"}},\"marker\":{\"colorbar\":{\"outlinewidth\":0,\"ticks\":\"\"}}}],\"scattermapbox\":[{\"type\":\"scattermapbox\",\"marker\":{\"colorbar\":{\"outlinewidth\":0,\"ticks\":\"\"}}}],\"scatterternary\":[{\"type\":\"scatterternary\",\"marker\":{\"colorbar\":{\"outlinewidth\":0,\"ticks\":\"\"}}}],\"scattercarpet\":[{\"type\":\"scattercarpet\",\"marker\":{\"colorbar\":{\"outlinewidth\":0,\"ticks\":\"\"}}}],\"carpet\":[{\"aaxis\":{\"endlinecolor\":\"#2a3f5f\",\"gridcolor\":\"white\",\"linecolor\":\"white\",\"minorgridcolor\":\"white\",\"startlinecolor\":\"#2a3f5f\"},\"baxis\":{\"endlinecolor\":\"#2a3f5f\",\"gridcolor\":\"white\",\"linecolor\":\"white\",\"minorgridcolor\":\"white\",\"startlinecolor\":\"#2a3f5f\"},\"type\":\"carpet\"}],\"table\":[{\"cells\":{\"fill\":{\"color\":\"#EBF0F8\"},\"line\":{\"color\":\"white\"}},\"header\":{\"fill\":{\"color\":\"#C8D4E3\"},\"line\":{\"color\":\"white\"}},\"type\":\"table\"}],\"barpolar\":[{\"marker\":{\"line\":{\"color\":\"#E5ECF6\",\"width\":0.5},\"pattern\":{\"fillmode\":\"overlay\",\"size\":10,\"solidity\":0.2}},\"type\":\"barpolar\"}],\"pie\":[{\"automargin\":true,\"type\":\"pie\"}]},\"layout\":{\"autotypenumbers\":\"strict\",\"colorway\":[\"#636efa\",\"#EF553B\",\"#00cc96\",\"#ab63fa\",\"#FFA15A\",\"#19d3f3\",\"#FF6692\",\"#B6E880\",\"#FF97FF\",\"#FECB52\"],\"font\":{\"color\":\"#2a3f5f\"},\"hovermode\":\"closest\",\"hoverlabel\":{\"align\":\"left\"},\"paper_bgcolor\":\"white\",\"plot_bgcolor\":\"#E5ECF6\",\"polar\":{\"bgcolor\":\"#E5ECF6\",\"angularaxis\":{\"gridcolor\":\"white\",\"linecolor\":\"white\",\"ticks\":\"\"},\"radialaxis\":{\"gridcolor\":\"white\",\"linecolor\":\"white\",\"ticks\":\"\"}},\"ternary\":{\"bgcolor\":\"#E5ECF6\",\"aaxis\":{\"gridcolor\":\"white\",\"linecolor\":\"white\",\"ticks\":\"\"},\"baxis\":{\"gridcolor\":\"white\",\"linecolor\":\"white\",\"ticks\":\"\"},\"caxis\":{\"gridcolor\":\"white\",\"linecolor\":\"white\",\"ticks\":\"\"}},\"coloraxis\":{\"colorbar\":{\"outlinewidth\":0,\"ticks\":\"\"}},\"colorscale\":{\"sequential\":[[0.0,\"#0d0887\"],[0.1111111111111111,\"#46039f\"],[0.2222222222222222,\"#7201a8\"],[0.3333333333333333,\"#9c179e\"],[0.4444444444444444,\"#bd3786\"],[0.5555555555555556,\"#d8576b\"],[0.6666666666666666,\"#ed7953\"],[0.7777777777777778,\"#fb9f3a\"],[0.8888888888888888,\"#fdca26\"],[1.0,\"#f0f921\"]],\"sequentialminus\":[[0.0,\"#0d0887\"],[0.1111111111111111,\"#46039f\"],[0.2222222222222222,\"#7201a8\"],[0.3333333333333333,\"#9c179e\"],[0.4444444444444444,\"#bd3786\"],[0.5555555555555556,\"#d8576b\"],[0.6666666666666666,\"#ed7953\"],[0.7777777777777778,\"#fb9f3a\"],[0.8888888888888888,\"#fdca26\"],[1.0,\"#f0f921\"]],\"diverging\":[[0,\"#8e0152\"],[0.1,\"#c51b7d\"],[0.2,\"#de77ae\"],[0.3,\"#f1b6da\"],[0.4,\"#fde0ef\"],[0.5,\"#f7f7f7\"],[0.6,\"#e6f5d0\"],[0.7,\"#b8e186\"],[0.8,\"#7fbc41\"],[0.9,\"#4d9221\"],[1,\"#276419\"]]},\"xaxis\":{\"gridcolor\":\"white\",\"linecolor\":\"white\",\"ticks\":\"\",\"title\":{\"standoff\":15},\"zerolinecolor\":\"white\",\"automargin\":true,\"zerolinewidth\":2},\"yaxis\":{\"gridcolor\":\"white\",\"linecolor\":\"white\",\"ticks\":\"\",\"title\":{\"standoff\":15},\"zerolinecolor\":\"white\",\"automargin\":true,\"zerolinewidth\":2},\"scene\":{\"xaxis\":{\"backgroundcolor\":\"#E5ECF6\",\"gridcolor\":\"white\",\"linecolor\":\"white\",\"showbackground\":true,\"ticks\":\"\",\"zerolinecolor\":\"white\",\"gridwidth\":2},\"yaxis\":{\"backgroundcolor\":\"#E5ECF6\",\"gridcolor\":\"white\",\"linecolor\":\"white\",\"showbackground\":true,\"ticks\":\"\",\"zerolinecolor\":\"white\",\"gridwidth\":2},\"zaxis\":{\"backgroundcolor\":\"#E5ECF6\",\"gridcolor\":\"white\",\"linecolor\":\"white\",\"showbackground\":true,\"ticks\":\"\",\"zerolinecolor\":\"white\",\"gridwidth\":2}},\"shapedefaults\":{\"line\":{\"color\":\"#2a3f5f\"}},\"annotationdefaults\":{\"arrowcolor\":\"#2a3f5f\",\"arrowhead\":0,\"arrowwidth\":1},\"geo\":{\"bgcolor\":\"white\",\"landcolor\":\"#E5ECF6\",\"subunitcolor\":\"white\",\"showland\":true,\"showlakes\":true,\"lakecolor\":\"white\"},\"title\":{\"x\":0.05},\"mapbox\":{\"style\":\"light\"}}},\"xaxis\":{\"anchor\":\"y\",\"domain\":[0.0,1.0],\"title\":{\"text\":\"Data\"}},\"yaxis\":{\"anchor\":\"x\",\"domain\":[0.0,1.0],\"title\":{\"text\":\"Posi\\u00e7\\u00e3o\"},\"autorange\":\"reversed\",\"range\":[0,18]},\"legend\":{\"title\":{\"text\":\"Team\"},\"tracegroupgap\":0},\"title\":{\"text\":\"Posi\\u00e7\\u00e3o dos times ao longo do campeonato\"}},                        {\"responsive\": true}                    )                };                            </script>        </div>"
      ],
      "text/plain": [
       "Figure({\n",
       "    'data': [{'hovertemplate': 'Team=Bayer Leverkusen<br>Data=%{x}<br>Posição=%{y}<extra></extra>',\n",
       "              'legendgroup': 'Bayer Leverkusen',\n",
       "              'line': {'color': '#636efa', 'dash': 'solid'},\n",
       "              'marker': {'symbol': 'circle'},\n",
       "              'mode': 'lines+markers',\n",
       "              'name': 'Bayer Leverkusen',\n",
       "              'orientation': 'v',\n",
       "              'showlegend': True,\n",
       "              'type': 'scatter',\n",
       "              'x': array([datetime.datetime(2023, 8, 19, 13, 30, tzinfo=datetime.timezone.utc),\n",
       "                          datetime.datetime(2023, 8, 19, 16, 30, tzinfo=datetime.timezone.utc),\n",
       "                          datetime.datetime(2023, 8, 20, 13, 30, tzinfo=datetime.timezone.utc),\n",
       "                          datetime.datetime(2023, 8, 20, 15, 30, tzinfo=datetime.timezone.utc),\n",
       "                          datetime.datetime(2023, 8, 25, 18, 30, tzinfo=datetime.timezone.utc),\n",
       "                          datetime.datetime(2023, 8, 26, 13, 30, tzinfo=datetime.timezone.utc),\n",
       "                          datetime.datetime(2023, 8, 26, 16, 30, tzinfo=datetime.timezone.utc),\n",
       "                          datetime.datetime(2023, 8, 27, 13, 30, tzinfo=datetime.timezone.utc),\n",
       "                          datetime.datetime(2023, 8, 27, 15, 30, tzinfo=datetime.timezone.utc),\n",
       "                          datetime.datetime(2023, 9, 1, 18, 30, tzinfo=datetime.timezone.utc),\n",
       "                          datetime.datetime(2023, 9, 2, 13, 30, tzinfo=datetime.timezone.utc),\n",
       "                          datetime.datetime(2023, 9, 2, 16, 30, tzinfo=datetime.timezone.utc),\n",
       "                          datetime.datetime(2023, 9, 3, 13, 30, tzinfo=datetime.timezone.utc),\n",
       "                          datetime.datetime(2023, 9, 3, 15, 30, tzinfo=datetime.timezone.utc),\n",
       "                          datetime.datetime(2023, 9, 15, 18, 30, tzinfo=datetime.timezone.utc),\n",
       "                          datetime.datetime(2023, 9, 16, 13, 30, tzinfo=datetime.timezone.utc),\n",
       "                          datetime.datetime(2023, 9, 16, 16, 30, tzinfo=datetime.timezone.utc),\n",
       "                          datetime.datetime(2023, 9, 17, 13, 30, tzinfo=datetime.timezone.utc),\n",
       "                          datetime.datetime(2023, 9, 17, 15, 30, tzinfo=datetime.timezone.utc),\n",
       "                          datetime.datetime(2023, 9, 22, 18, 30, tzinfo=datetime.timezone.utc),\n",
       "                          datetime.datetime(2023, 9, 23, 13, 30, tzinfo=datetime.timezone.utc),\n",
       "                          datetime.datetime(2023, 9, 23, 16, 30, tzinfo=datetime.timezone.utc),\n",
       "                          datetime.datetime(2023, 9, 24, 13, 30, tzinfo=datetime.timezone.utc),\n",
       "                          datetime.datetime(2023, 9, 24, 15, 30, tzinfo=datetime.timezone.utc),\n",
       "                          datetime.datetime(2023, 9, 29, 18, 30, tzinfo=datetime.timezone.utc),\n",
       "                          datetime.datetime(2023, 9, 30, 13, 30, tzinfo=datetime.timezone.utc),\n",
       "                          datetime.datetime(2023, 9, 30, 16, 30, tzinfo=datetime.timezone.utc),\n",
       "                          datetime.datetime(2023, 10, 1, 13, 30, tzinfo=datetime.timezone.utc),\n",
       "                          datetime.datetime(2023, 10, 1, 15, 30, tzinfo=datetime.timezone.utc),\n",
       "                          datetime.datetime(2023, 10, 6, 18, 30, tzinfo=datetime.timezone.utc),\n",
       "                          datetime.datetime(2023, 10, 7, 13, 30, tzinfo=datetime.timezone.utc),\n",
       "                          datetime.datetime(2023, 10, 7, 16, 30, tzinfo=datetime.timezone.utc),\n",
       "                          datetime.datetime(2023, 10, 8, 13, 30, tzinfo=datetime.timezone.utc),\n",
       "                          datetime.datetime(2023, 10, 8, 15, 30, tzinfo=datetime.timezone.utc),\n",
       "                          datetime.datetime(2023, 10, 8, 17, 30, tzinfo=datetime.timezone.utc),\n",
       "                          datetime.datetime(2023, 10, 20, 18, 30, tzinfo=datetime.timezone.utc),\n",
       "                          datetime.datetime(2023, 10, 21, 13, 30, tzinfo=datetime.timezone.utc),\n",
       "                          datetime.datetime(2023, 10, 21, 16, 30, tzinfo=datetime.timezone.utc),\n",
       "                          datetime.datetime(2023, 10, 22, 13, 30, tzinfo=datetime.timezone.utc),\n",
       "                          datetime.datetime(2023, 10, 22, 15, 30, tzinfo=datetime.timezone.utc),\n",
       "                          datetime.datetime(2023, 10, 27, 18, 30, tzinfo=datetime.timezone.utc),\n",
       "                          datetime.datetime(2023, 10, 28, 13, 30, tzinfo=datetime.timezone.utc),\n",
       "                          datetime.datetime(2023, 10, 28, 16, 30, tzinfo=datetime.timezone.utc),\n",
       "                          datetime.datetime(2023, 10, 29, 14, 30, tzinfo=datetime.timezone.utc),\n",
       "                          datetime.datetime(2023, 10, 29, 16, 30, tzinfo=datetime.timezone.utc),\n",
       "                          datetime.datetime(2023, 11, 3, 19, 30, tzinfo=datetime.timezone.utc),\n",
       "                          datetime.datetime(2023, 11, 4, 14, 30, tzinfo=datetime.timezone.utc),\n",
       "                          datetime.datetime(2023, 11, 4, 17, 30, tzinfo=datetime.timezone.utc),\n",
       "                          datetime.datetime(2023, 11, 5, 14, 30, tzinfo=datetime.timezone.utc),\n",
       "                          datetime.datetime(2023, 11, 5, 16, 30, tzinfo=datetime.timezone.utc),\n",
       "                          datetime.datetime(2023, 11, 10, 19, 30, tzinfo=datetime.timezone.utc),\n",
       "                          datetime.datetime(2023, 11, 11, 14, 30, tzinfo=datetime.timezone.utc),\n",
       "                          datetime.datetime(2023, 11, 11, 17, 30, tzinfo=datetime.timezone.utc),\n",
       "                          datetime.datetime(2023, 11, 12, 14, 30, tzinfo=datetime.timezone.utc),\n",
       "                          datetime.datetime(2023, 11, 12, 16, 30, tzinfo=datetime.timezone.utc),\n",
       "                          datetime.datetime(2023, 11, 12, 18, 30, tzinfo=datetime.timezone.utc),\n",
       "                          datetime.datetime(2023, 11, 24, 19, 30, tzinfo=datetime.timezone.utc),\n",
       "                          datetime.datetime(2023, 11, 25, 14, 30, tzinfo=datetime.timezone.utc),\n",
       "                          datetime.datetime(2023, 11, 25, 17, 30, tzinfo=datetime.timezone.utc),\n",
       "                          datetime.datetime(2023, 11, 26, 14, 30, tzinfo=datetime.timezone.utc),\n",
       "                          datetime.datetime(2023, 11, 26, 16, 30, tzinfo=datetime.timezone.utc),\n",
       "                          datetime.datetime(2023, 12, 1, 19, 30, tzinfo=datetime.timezone.utc),\n",
       "                          datetime.datetime(2023, 12, 2, 14, 30, tzinfo=datetime.timezone.utc),\n",
       "                          datetime.datetime(2023, 12, 2, 17, 30, tzinfo=datetime.timezone.utc),\n",
       "                          datetime.datetime(2023, 12, 3, 14, 30, tzinfo=datetime.timezone.utc),\n",
       "                          datetime.datetime(2023, 12, 3, 16, 30, tzinfo=datetime.timezone.utc),\n",
       "                          datetime.datetime(2023, 12, 3, 18, 30, tzinfo=datetime.timezone.utc),\n",
       "                          datetime.datetime(2023, 12, 8, 19, 30, tzinfo=datetime.timezone.utc),\n",
       "                          datetime.datetime(2023, 12, 9, 14, 30, tzinfo=datetime.timezone.utc),\n",
       "                          datetime.datetime(2023, 12, 9, 17, 30, tzinfo=datetime.timezone.utc),\n",
       "                          datetime.datetime(2023, 12, 10, 14, 30, tzinfo=datetime.timezone.utc),\n",
       "                          datetime.datetime(2023, 12, 10, 16, 30, tzinfo=datetime.timezone.utc),\n",
       "                          datetime.datetime(2023, 12, 15, 19, 30, tzinfo=datetime.timezone.utc),\n",
       "                          datetime.datetime(2023, 12, 16, 14, 30, tzinfo=datetime.timezone.utc),\n",
       "                          datetime.datetime(2023, 12, 16, 17, 30, tzinfo=datetime.timezone.utc),\n",
       "                          datetime.datetime(2023, 12, 17, 14, 30, tzinfo=datetime.timezone.utc),\n",
       "                          datetime.datetime(2023, 12, 17, 16, 30, tzinfo=datetime.timezone.utc),\n",
       "                          datetime.datetime(2023, 12, 17, 18, 30, tzinfo=datetime.timezone.utc),\n",
       "                          datetime.datetime(2023, 12, 19, 17, 30, tzinfo=datetime.timezone.utc),\n",
       "                          datetime.datetime(2023, 12, 19, 19, 30, tzinfo=datetime.timezone.utc),\n",
       "                          datetime.datetime(2023, 12, 20, 17, 30, tzinfo=datetime.timezone.utc),\n",
       "                          datetime.datetime(2023, 12, 20, 19, 30, tzinfo=datetime.timezone.utc),\n",
       "                          datetime.datetime(2024, 1, 12, 19, 30, tzinfo=datetime.timezone.utc),\n",
       "                          datetime.datetime(2024, 1, 13, 14, 30, tzinfo=datetime.timezone.utc),\n",
       "                          datetime.datetime(2024, 1, 13, 17, 30, tzinfo=datetime.timezone.utc),\n",
       "                          datetime.datetime(2024, 1, 14, 14, 30, tzinfo=datetime.timezone.utc),\n",
       "                          datetime.datetime(2024, 1, 14, 16, 30, tzinfo=datetime.timezone.utc),\n",
       "                          datetime.datetime(2024, 1, 20, 14, 30, tzinfo=datetime.timezone.utc),\n",
       "                          datetime.datetime(2024, 1, 20, 17, 30, tzinfo=datetime.timezone.utc),\n",
       "                          datetime.datetime(2024, 1, 21, 14, 30, tzinfo=datetime.timezone.utc),\n",
       "                          datetime.datetime(2024, 1, 21, 16, 30, tzinfo=datetime.timezone.utc),\n",
       "                          datetime.datetime(2024, 1, 24, 19, 30, tzinfo=datetime.timezone.utc),\n",
       "                          datetime.datetime(2024, 1, 26, 19, 30, tzinfo=datetime.timezone.utc),\n",
       "                          datetime.datetime(2024, 1, 27, 14, 30, tzinfo=datetime.timezone.utc),\n",
       "                          datetime.datetime(2024, 1, 27, 17, 30, tzinfo=datetime.timezone.utc),\n",
       "                          datetime.datetime(2024, 1, 28, 14, 30, tzinfo=datetime.timezone.utc),\n",
       "                          datetime.datetime(2024, 1, 28, 16, 30, tzinfo=datetime.timezone.utc),\n",
       "                          datetime.datetime(2024, 2, 2, 19, 30, tzinfo=datetime.timezone.utc),\n",
       "                          datetime.datetime(2024, 2, 3, 14, 30, tzinfo=datetime.timezone.utc),\n",
       "                          datetime.datetime(2024, 2, 3, 17, 30, tzinfo=datetime.timezone.utc),\n",
       "                          datetime.datetime(2024, 2, 4, 14, 30, tzinfo=datetime.timezone.utc),\n",
       "                          datetime.datetime(2024, 2, 4, 16, 30, tzinfo=datetime.timezone.utc),\n",
       "                          datetime.datetime(2024, 2, 7, 17, 30, tzinfo=datetime.timezone.utc),\n",
       "                          datetime.datetime(2024, 2, 9, 19, 30, tzinfo=datetime.timezone.utc),\n",
       "                          datetime.datetime(2024, 2, 10, 14, 30, tzinfo=datetime.timezone.utc),\n",
       "                          datetime.datetime(2024, 2, 10, 17, 30, tzinfo=datetime.timezone.utc),\n",
       "                          datetime.datetime(2024, 2, 11, 14, 30, tzinfo=datetime.timezone.utc),\n",
       "                          datetime.datetime(2024, 2, 11, 16, 30, tzinfo=datetime.timezone.utc),\n",
       "                          datetime.datetime(2024, 2, 16, 19, 30, tzinfo=datetime.timezone.utc),\n",
       "                          datetime.datetime(2024, 2, 17, 14, 30, tzinfo=datetime.timezone.utc),\n",
       "                          datetime.datetime(2024, 2, 17, 17, 30, tzinfo=datetime.timezone.utc),\n",
       "                          datetime.datetime(2024, 2, 18, 14, 30, tzinfo=datetime.timezone.utc),\n",
       "                          datetime.datetime(2024, 2, 18, 16, 30, tzinfo=datetime.timezone.utc),\n",
       "                          datetime.datetime(2024, 2, 23, 19, 30, tzinfo=datetime.timezone.utc),\n",
       "                          datetime.datetime(2024, 2, 24, 14, 30, tzinfo=datetime.timezone.utc),\n",
       "                          datetime.datetime(2024, 2, 24, 17, 30, tzinfo=datetime.timezone.utc),\n",
       "                          datetime.datetime(2024, 2, 25, 14, 30, tzinfo=datetime.timezone.utc),\n",
       "                          datetime.datetime(2024, 2, 25, 16, 30, tzinfo=datetime.timezone.utc),\n",
       "                          datetime.datetime(2024, 2, 25, 18, 30, tzinfo=datetime.timezone.utc),\n",
       "                          datetime.datetime(2024, 3, 1, 19, 30, tzinfo=datetime.timezone.utc),\n",
       "                          datetime.datetime(2024, 3, 2, 14, 30, tzinfo=datetime.timezone.utc),\n",
       "                          datetime.datetime(2024, 3, 2, 17, 30, tzinfo=datetime.timezone.utc),\n",
       "                          datetime.datetime(2024, 3, 3, 14, 30, tzinfo=datetime.timezone.utc),\n",
       "                          datetime.datetime(2024, 3, 3, 16, 30, tzinfo=datetime.timezone.utc),\n",
       "                          datetime.datetime(2024, 3, 8, 19, 30, tzinfo=datetime.timezone.utc),\n",
       "                          datetime.datetime(2024, 3, 9, 14, 30, tzinfo=datetime.timezone.utc),\n",
       "                          datetime.datetime(2024, 3, 9, 17, 30, tzinfo=datetime.timezone.utc),\n",
       "                          datetime.datetime(2024, 3, 10, 14, 30, tzinfo=datetime.timezone.utc),\n",
       "                          datetime.datetime(2024, 3, 10, 16, 30, tzinfo=datetime.timezone.utc),\n",
       "                          datetime.datetime(2024, 3, 10, 18, 30, tzinfo=datetime.timezone.utc),\n",
       "                          datetime.datetime(2024, 3, 15, 19, 30, tzinfo=datetime.timezone.utc),\n",
       "                          datetime.datetime(2024, 3, 16, 14, 30, tzinfo=datetime.timezone.utc),\n",
       "                          datetime.datetime(2024, 3, 16, 17, 30, tzinfo=datetime.timezone.utc),\n",
       "                          datetime.datetime(2024, 3, 17, 14, 30, tzinfo=datetime.timezone.utc),\n",
       "                          datetime.datetime(2024, 3, 17, 16, 30, tzinfo=datetime.timezone.utc),\n",
       "                          datetime.datetime(2024, 3, 30, 14, 30, tzinfo=datetime.timezone.utc),\n",
       "                          datetime.datetime(2024, 3, 30, 17, 30, tzinfo=datetime.timezone.utc),\n",
       "                          datetime.datetime(2024, 3, 31, 13, 30, tzinfo=datetime.timezone.utc),\n",
       "                          datetime.datetime(2024, 3, 31, 15, 30, tzinfo=datetime.timezone.utc),\n",
       "                          datetime.datetime(2024, 3, 31, 17, 30, tzinfo=datetime.timezone.utc),\n",
       "                          datetime.datetime(2024, 4, 5, 18, 30, tzinfo=datetime.timezone.utc),\n",
       "                          datetime.datetime(2024, 4, 6, 13, 30, tzinfo=datetime.timezone.utc),\n",
       "                          datetime.datetime(2024, 4, 6, 16, 30, tzinfo=datetime.timezone.utc),\n",
       "                          datetime.datetime(2024, 4, 7, 13, 30, tzinfo=datetime.timezone.utc),\n",
       "                          datetime.datetime(2024, 4, 7, 15, 30, tzinfo=datetime.timezone.utc),\n",
       "                          datetime.datetime(2024, 4, 12, 18, 30, tzinfo=datetime.timezone.utc),\n",
       "                          datetime.datetime(2024, 4, 13, 13, 30, tzinfo=datetime.timezone.utc),\n",
       "                          datetime.datetime(2024, 4, 13, 16, 30, tzinfo=datetime.timezone.utc),\n",
       "                          datetime.datetime(2024, 4, 14, 13, 30, tzinfo=datetime.timezone.utc),\n",
       "                          datetime.datetime(2024, 4, 14, 15, 30, tzinfo=datetime.timezone.utc),\n",
       "                          datetime.datetime(2024, 4, 19, 18, 30, tzinfo=datetime.timezone.utc),\n",
       "                          datetime.datetime(2024, 4, 20, 13, 30, tzinfo=datetime.timezone.utc),\n",
       "                          datetime.datetime(2024, 4, 20, 16, 30, tzinfo=datetime.timezone.utc),\n",
       "                          datetime.datetime(2024, 4, 21, 13, 30, tzinfo=datetime.timezone.utc),\n",
       "                          datetime.datetime(2024, 4, 21, 15, 30, tzinfo=datetime.timezone.utc),\n",
       "                          datetime.datetime(2024, 4, 21, 17, 30, tzinfo=datetime.timezone.utc),\n",
       "                          datetime.datetime(2024, 4, 26, 18, 30, tzinfo=datetime.timezone.utc),\n",
       "                          datetime.datetime(2024, 4, 27, 13, 30, tzinfo=datetime.timezone.utc),\n",
       "                          datetime.datetime(2024, 4, 27, 16, 30, tzinfo=datetime.timezone.utc),\n",
       "                          datetime.datetime(2024, 4, 28, 13, 30, tzinfo=datetime.timezone.utc),\n",
       "                          datetime.datetime(2024, 4, 28, 15, 30, tzinfo=datetime.timezone.utc),\n",
       "                          datetime.datetime(2024, 4, 28, 17, 30, tzinfo=datetime.timezone.utc),\n",
       "                          datetime.datetime(2024, 5, 3, 18, 30, tzinfo=datetime.timezone.utc),\n",
       "                          datetime.datetime(2024, 5, 4, 13, 30, tzinfo=datetime.timezone.utc),\n",
       "                          datetime.datetime(2024, 5, 4, 16, 30, tzinfo=datetime.timezone.utc),\n",
       "                          datetime.datetime(2024, 5, 5, 13, 30, tzinfo=datetime.timezone.utc),\n",
       "                          datetime.datetime(2024, 5, 5, 15, 30, tzinfo=datetime.timezone.utc),\n",
       "                          datetime.datetime(2024, 5, 5, 17, 30, tzinfo=datetime.timezone.utc),\n",
       "                          datetime.datetime(2024, 5, 10, 18, 30, tzinfo=datetime.timezone.utc),\n",
       "                          datetime.datetime(2024, 5, 11, 13, 30, tzinfo=datetime.timezone.utc),\n",
       "                          datetime.datetime(2024, 5, 11, 16, 30, tzinfo=datetime.timezone.utc),\n",
       "                          datetime.datetime(2024, 5, 12, 13, 30, tzinfo=datetime.timezone.utc),\n",
       "                          datetime.datetime(2024, 5, 12, 15, 30, tzinfo=datetime.timezone.utc),\n",
       "                          datetime.datetime(2024, 5, 12, 17, 30, tzinfo=datetime.timezone.utc),\n",
       "                          datetime.datetime(2024, 5, 18, 13, 30, tzinfo=datetime.timezone.utc)],\n",
       "                         dtype=object),\n",
       "              'xaxis': 'x',\n",
       "              'y': array([1., 1., 1., 1., 1., 4., 1., 1., 1., 1., 1., 1., 1., 1., 1., 1., 1., 1.,\n",
       "                          1., 2., 5., 5., 1., 1., 1., 1., 1., 1., 1., 1., 2., 2., 1., 1., 1., 1.,\n",
       "                          1., 1., 1., 1., 1., 1., 1., 1., 1., 1., 1., 1., 1., 1., 1., 1., 1., 1.,\n",
       "                          1., 1., 1., 1., 1., 1., 1., 1., 1., 1., 1., 1., 1., 1., 1., 1., 1., 1.,\n",
       "                          1., 1., 1., 1., 1., 1., 1., 1., 1., 1., 1., 1., 1., 1., 1., 1., 1., 1.,\n",
       "                          1., 1., 1., 1., 1., 1., 1., 1., 1., 1., 1., 1., 1., 1., 1., 1., 1., 1.,\n",
       "                          1., 1., 1., 1., 1., 1., 1., 1., 1., 1., 1., 1., 1., 1., 1., 1., 1., 1.,\n",
       "                          1., 1., 1., 1., 1., 1., 1., 1., 1., 1., 1., 1., 1., 1., 1., 1., 1., 1.,\n",
       "                          1., 1., 1., 1., 1., 1., 1., 1., 1., 1., 1., 1., 1., 1., 1., 1., 1., 1.,\n",
       "                          1., 1., 1., 1., 1., 1., 1., 1., 1., 1., 1., 1., 1.]),\n",
       "              'yaxis': 'y'},\n",
       "             {'hovertemplate': 'Team=Borussia Dortmund<br>Data=%{x}<br>Posição=%{y}<extra></extra>',\n",
       "              'legendgroup': 'Borussia Dortmund',\n",
       "              'line': {'color': '#EF553B', 'dash': 'solid'},\n",
       "              'marker': {'symbol': 'circle'},\n",
       "              'mode': 'lines+markers',\n",
       "              'name': 'Borussia Dortmund',\n",
       "              'orientation': 'v',\n",
       "              'showlegend': True,\n",
       "              'type': 'scatter',\n",
       "              'x': array([datetime.datetime(2023, 8, 19, 16, 30, tzinfo=datetime.timezone.utc),\n",
       "                          datetime.datetime(2023, 8, 20, 13, 30, tzinfo=datetime.timezone.utc),\n",
       "                          datetime.datetime(2023, 8, 20, 15, 30, tzinfo=datetime.timezone.utc),\n",
       "                          datetime.datetime(2023, 8, 25, 18, 30, tzinfo=datetime.timezone.utc),\n",
       "                          datetime.datetime(2023, 8, 26, 13, 30, tzinfo=datetime.timezone.utc),\n",
       "                          datetime.datetime(2023, 8, 26, 16, 30, tzinfo=datetime.timezone.utc),\n",
       "                          datetime.datetime(2023, 8, 27, 13, 30, tzinfo=datetime.timezone.utc),\n",
       "                          datetime.datetime(2023, 8, 27, 15, 30, tzinfo=datetime.timezone.utc),\n",
       "                          datetime.datetime(2023, 9, 1, 18, 30, tzinfo=datetime.timezone.utc),\n",
       "                          datetime.datetime(2023, 9, 2, 13, 30, tzinfo=datetime.timezone.utc),\n",
       "                          datetime.datetime(2023, 9, 2, 16, 30, tzinfo=datetime.timezone.utc),\n",
       "                          datetime.datetime(2023, 9, 3, 13, 30, tzinfo=datetime.timezone.utc),\n",
       "                          datetime.datetime(2023, 9, 3, 15, 30, tzinfo=datetime.timezone.utc),\n",
       "                          datetime.datetime(2023, 9, 15, 18, 30, tzinfo=datetime.timezone.utc),\n",
       "                          datetime.datetime(2023, 9, 16, 13, 30, tzinfo=datetime.timezone.utc),\n",
       "                          datetime.datetime(2023, 9, 16, 16, 30, tzinfo=datetime.timezone.utc),\n",
       "                          datetime.datetime(2023, 9, 17, 13, 30, tzinfo=datetime.timezone.utc),\n",
       "                          datetime.datetime(2023, 9, 17, 15, 30, tzinfo=datetime.timezone.utc),\n",
       "                          datetime.datetime(2023, 9, 22, 18, 30, tzinfo=datetime.timezone.utc),\n",
       "                          datetime.datetime(2023, 9, 23, 13, 30, tzinfo=datetime.timezone.utc),\n",
       "                          datetime.datetime(2023, 9, 23, 16, 30, tzinfo=datetime.timezone.utc),\n",
       "                          datetime.datetime(2023, 9, 24, 13, 30, tzinfo=datetime.timezone.utc),\n",
       "                          datetime.datetime(2023, 9, 24, 15, 30, tzinfo=datetime.timezone.utc),\n",
       "                          datetime.datetime(2023, 9, 29, 18, 30, tzinfo=datetime.timezone.utc),\n",
       "                          datetime.datetime(2023, 9, 30, 13, 30, tzinfo=datetime.timezone.utc),\n",
       "                          datetime.datetime(2023, 9, 30, 16, 30, tzinfo=datetime.timezone.utc),\n",
       "                          datetime.datetime(2023, 10, 1, 13, 30, tzinfo=datetime.timezone.utc),\n",
       "                          datetime.datetime(2023, 10, 1, 15, 30, tzinfo=datetime.timezone.utc),\n",
       "                          datetime.datetime(2023, 10, 6, 18, 30, tzinfo=datetime.timezone.utc),\n",
       "                          datetime.datetime(2023, 10, 7, 13, 30, tzinfo=datetime.timezone.utc),\n",
       "                          datetime.datetime(2023, 10, 7, 16, 30, tzinfo=datetime.timezone.utc),\n",
       "                          datetime.datetime(2023, 10, 8, 13, 30, tzinfo=datetime.timezone.utc),\n",
       "                          datetime.datetime(2023, 10, 8, 15, 30, tzinfo=datetime.timezone.utc),\n",
       "                          datetime.datetime(2023, 10, 8, 17, 30, tzinfo=datetime.timezone.utc),\n",
       "                          datetime.datetime(2023, 10, 20, 18, 30, tzinfo=datetime.timezone.utc),\n",
       "                          datetime.datetime(2023, 10, 21, 13, 30, tzinfo=datetime.timezone.utc),\n",
       "                          datetime.datetime(2023, 10, 21, 16, 30, tzinfo=datetime.timezone.utc),\n",
       "                          datetime.datetime(2023, 10, 22, 13, 30, tzinfo=datetime.timezone.utc),\n",
       "                          datetime.datetime(2023, 10, 22, 15, 30, tzinfo=datetime.timezone.utc),\n",
       "                          datetime.datetime(2023, 10, 27, 18, 30, tzinfo=datetime.timezone.utc),\n",
       "                          datetime.datetime(2023, 10, 28, 13, 30, tzinfo=datetime.timezone.utc),\n",
       "                          datetime.datetime(2023, 10, 28, 16, 30, tzinfo=datetime.timezone.utc),\n",
       "                          datetime.datetime(2023, 10, 29, 14, 30, tzinfo=datetime.timezone.utc),\n",
       "                          datetime.datetime(2023, 10, 29, 16, 30, tzinfo=datetime.timezone.utc),\n",
       "                          datetime.datetime(2023, 11, 3, 19, 30, tzinfo=datetime.timezone.utc),\n",
       "                          datetime.datetime(2023, 11, 4, 14, 30, tzinfo=datetime.timezone.utc),\n",
       "                          datetime.datetime(2023, 11, 4, 17, 30, tzinfo=datetime.timezone.utc),\n",
       "                          datetime.datetime(2023, 11, 5, 14, 30, tzinfo=datetime.timezone.utc),\n",
       "                          datetime.datetime(2023, 11, 5, 16, 30, tzinfo=datetime.timezone.utc),\n",
       "                          datetime.datetime(2023, 11, 10, 19, 30, tzinfo=datetime.timezone.utc),\n",
       "                          datetime.datetime(2023, 11, 11, 14, 30, tzinfo=datetime.timezone.utc),\n",
       "                          datetime.datetime(2023, 11, 11, 17, 30, tzinfo=datetime.timezone.utc),\n",
       "                          datetime.datetime(2023, 11, 12, 14, 30, tzinfo=datetime.timezone.utc),\n",
       "                          datetime.datetime(2023, 11, 12, 16, 30, tzinfo=datetime.timezone.utc),\n",
       "                          datetime.datetime(2023, 11, 12, 18, 30, tzinfo=datetime.timezone.utc),\n",
       "                          datetime.datetime(2023, 11, 24, 19, 30, tzinfo=datetime.timezone.utc),\n",
       "                          datetime.datetime(2023, 11, 25, 14, 30, tzinfo=datetime.timezone.utc),\n",
       "                          datetime.datetime(2023, 11, 25, 17, 30, tzinfo=datetime.timezone.utc),\n",
       "                          datetime.datetime(2023, 11, 26, 14, 30, tzinfo=datetime.timezone.utc),\n",
       "                          datetime.datetime(2023, 11, 26, 16, 30, tzinfo=datetime.timezone.utc),\n",
       "                          datetime.datetime(2023, 12, 1, 19, 30, tzinfo=datetime.timezone.utc),\n",
       "                          datetime.datetime(2023, 12, 2, 14, 30, tzinfo=datetime.timezone.utc),\n",
       "                          datetime.datetime(2023, 12, 2, 17, 30, tzinfo=datetime.timezone.utc),\n",
       "                          datetime.datetime(2023, 12, 3, 14, 30, tzinfo=datetime.timezone.utc),\n",
       "                          datetime.datetime(2023, 12, 3, 16, 30, tzinfo=datetime.timezone.utc),\n",
       "                          datetime.datetime(2023, 12, 3, 18, 30, tzinfo=datetime.timezone.utc),\n",
       "                          datetime.datetime(2023, 12, 8, 19, 30, tzinfo=datetime.timezone.utc),\n",
       "                          datetime.datetime(2023, 12, 9, 14, 30, tzinfo=datetime.timezone.utc),\n",
       "                          datetime.datetime(2023, 12, 9, 17, 30, tzinfo=datetime.timezone.utc),\n",
       "                          datetime.datetime(2023, 12, 10, 14, 30, tzinfo=datetime.timezone.utc),\n",
       "                          datetime.datetime(2023, 12, 10, 16, 30, tzinfo=datetime.timezone.utc),\n",
       "                          datetime.datetime(2023, 12, 15, 19, 30, tzinfo=datetime.timezone.utc),\n",
       "                          datetime.datetime(2023, 12, 16, 14, 30, tzinfo=datetime.timezone.utc),\n",
       "                          datetime.datetime(2023, 12, 16, 17, 30, tzinfo=datetime.timezone.utc),\n",
       "                          datetime.datetime(2023, 12, 17, 14, 30, tzinfo=datetime.timezone.utc),\n",
       "                          datetime.datetime(2023, 12, 17, 16, 30, tzinfo=datetime.timezone.utc),\n",
       "                          datetime.datetime(2023, 12, 17, 18, 30, tzinfo=datetime.timezone.utc),\n",
       "                          datetime.datetime(2023, 12, 19, 17, 30, tzinfo=datetime.timezone.utc),\n",
       "                          datetime.datetime(2023, 12, 19, 19, 30, tzinfo=datetime.timezone.utc),\n",
       "                          datetime.datetime(2023, 12, 20, 17, 30, tzinfo=datetime.timezone.utc),\n",
       "                          datetime.datetime(2023, 12, 20, 19, 30, tzinfo=datetime.timezone.utc),\n",
       "                          datetime.datetime(2024, 1, 12, 19, 30, tzinfo=datetime.timezone.utc),\n",
       "                          datetime.datetime(2024, 1, 13, 14, 30, tzinfo=datetime.timezone.utc),\n",
       "                          datetime.datetime(2024, 1, 13, 17, 30, tzinfo=datetime.timezone.utc),\n",
       "                          datetime.datetime(2024, 1, 14, 14, 30, tzinfo=datetime.timezone.utc),\n",
       "                          datetime.datetime(2024, 1, 14, 16, 30, tzinfo=datetime.timezone.utc),\n",
       "                          datetime.datetime(2024, 1, 20, 14, 30, tzinfo=datetime.timezone.utc),\n",
       "                          datetime.datetime(2024, 1, 20, 17, 30, tzinfo=datetime.timezone.utc),\n",
       "                          datetime.datetime(2024, 1, 21, 14, 30, tzinfo=datetime.timezone.utc),\n",
       "                          datetime.datetime(2024, 1, 21, 16, 30, tzinfo=datetime.timezone.utc),\n",
       "                          datetime.datetime(2024, 1, 24, 19, 30, tzinfo=datetime.timezone.utc),\n",
       "                          datetime.datetime(2024, 1, 26, 19, 30, tzinfo=datetime.timezone.utc),\n",
       "                          datetime.datetime(2024, 1, 27, 14, 30, tzinfo=datetime.timezone.utc),\n",
       "                          datetime.datetime(2024, 1, 27, 17, 30, tzinfo=datetime.timezone.utc),\n",
       "                          datetime.datetime(2024, 1, 28, 14, 30, tzinfo=datetime.timezone.utc),\n",
       "                          datetime.datetime(2024, 1, 28, 16, 30, tzinfo=datetime.timezone.utc),\n",
       "                          datetime.datetime(2024, 2, 2, 19, 30, tzinfo=datetime.timezone.utc),\n",
       "                          datetime.datetime(2024, 2, 3, 14, 30, tzinfo=datetime.timezone.utc),\n",
       "                          datetime.datetime(2024, 2, 3, 17, 30, tzinfo=datetime.timezone.utc),\n",
       "                          datetime.datetime(2024, 2, 4, 14, 30, tzinfo=datetime.timezone.utc),\n",
       "                          datetime.datetime(2024, 2, 4, 16, 30, tzinfo=datetime.timezone.utc),\n",
       "                          datetime.datetime(2024, 2, 7, 17, 30, tzinfo=datetime.timezone.utc),\n",
       "                          datetime.datetime(2024, 2, 9, 19, 30, tzinfo=datetime.timezone.utc),\n",
       "                          datetime.datetime(2024, 2, 10, 14, 30, tzinfo=datetime.timezone.utc),\n",
       "                          datetime.datetime(2024, 2, 10, 17, 30, tzinfo=datetime.timezone.utc),\n",
       "                          datetime.datetime(2024, 2, 11, 14, 30, tzinfo=datetime.timezone.utc),\n",
       "                          datetime.datetime(2024, 2, 11, 16, 30, tzinfo=datetime.timezone.utc),\n",
       "                          datetime.datetime(2024, 2, 16, 19, 30, tzinfo=datetime.timezone.utc),\n",
       "                          datetime.datetime(2024, 2, 17, 14, 30, tzinfo=datetime.timezone.utc),\n",
       "                          datetime.datetime(2024, 2, 17, 17, 30, tzinfo=datetime.timezone.utc),\n",
       "                          datetime.datetime(2024, 2, 18, 14, 30, tzinfo=datetime.timezone.utc),\n",
       "                          datetime.datetime(2024, 2, 18, 16, 30, tzinfo=datetime.timezone.utc),\n",
       "                          datetime.datetime(2024, 2, 23, 19, 30, tzinfo=datetime.timezone.utc),\n",
       "                          datetime.datetime(2024, 2, 24, 14, 30, tzinfo=datetime.timezone.utc),\n",
       "                          datetime.datetime(2024, 2, 24, 17, 30, tzinfo=datetime.timezone.utc),\n",
       "                          datetime.datetime(2024, 2, 25, 14, 30, tzinfo=datetime.timezone.utc),\n",
       "                          datetime.datetime(2024, 2, 25, 16, 30, tzinfo=datetime.timezone.utc),\n",
       "                          datetime.datetime(2024, 2, 25, 18, 30, tzinfo=datetime.timezone.utc),\n",
       "                          datetime.datetime(2024, 3, 1, 19, 30, tzinfo=datetime.timezone.utc),\n",
       "                          datetime.datetime(2024, 3, 2, 14, 30, tzinfo=datetime.timezone.utc),\n",
       "                          datetime.datetime(2024, 3, 2, 17, 30, tzinfo=datetime.timezone.utc),\n",
       "                          datetime.datetime(2024, 3, 3, 14, 30, tzinfo=datetime.timezone.utc),\n",
       "                          datetime.datetime(2024, 3, 3, 16, 30, tzinfo=datetime.timezone.utc),\n",
       "                          datetime.datetime(2024, 3, 8, 19, 30, tzinfo=datetime.timezone.utc),\n",
       "                          datetime.datetime(2024, 3, 9, 14, 30, tzinfo=datetime.timezone.utc),\n",
       "                          datetime.datetime(2024, 3, 9, 17, 30, tzinfo=datetime.timezone.utc),\n",
       "                          datetime.datetime(2024, 3, 10, 14, 30, tzinfo=datetime.timezone.utc),\n",
       "                          datetime.datetime(2024, 3, 10, 16, 30, tzinfo=datetime.timezone.utc),\n",
       "                          datetime.datetime(2024, 3, 10, 18, 30, tzinfo=datetime.timezone.utc),\n",
       "                          datetime.datetime(2024, 3, 15, 19, 30, tzinfo=datetime.timezone.utc),\n",
       "                          datetime.datetime(2024, 3, 16, 14, 30, tzinfo=datetime.timezone.utc),\n",
       "                          datetime.datetime(2024, 3, 16, 17, 30, tzinfo=datetime.timezone.utc),\n",
       "                          datetime.datetime(2024, 3, 17, 14, 30, tzinfo=datetime.timezone.utc),\n",
       "                          datetime.datetime(2024, 3, 17, 16, 30, tzinfo=datetime.timezone.utc),\n",
       "                          datetime.datetime(2024, 3, 30, 14, 30, tzinfo=datetime.timezone.utc),\n",
       "                          datetime.datetime(2024, 3, 30, 17, 30, tzinfo=datetime.timezone.utc),\n",
       "                          datetime.datetime(2024, 3, 31, 13, 30, tzinfo=datetime.timezone.utc),\n",
       "                          datetime.datetime(2024, 3, 31, 15, 30, tzinfo=datetime.timezone.utc),\n",
       "                          datetime.datetime(2024, 3, 31, 17, 30, tzinfo=datetime.timezone.utc),\n",
       "                          datetime.datetime(2024, 4, 5, 18, 30, tzinfo=datetime.timezone.utc),\n",
       "                          datetime.datetime(2024, 4, 6, 13, 30, tzinfo=datetime.timezone.utc),\n",
       "                          datetime.datetime(2024, 4, 6, 16, 30, tzinfo=datetime.timezone.utc),\n",
       "                          datetime.datetime(2024, 4, 7, 13, 30, tzinfo=datetime.timezone.utc),\n",
       "                          datetime.datetime(2024, 4, 7, 15, 30, tzinfo=datetime.timezone.utc),\n",
       "                          datetime.datetime(2024, 4, 12, 18, 30, tzinfo=datetime.timezone.utc),\n",
       "                          datetime.datetime(2024, 4, 13, 13, 30, tzinfo=datetime.timezone.utc),\n",
       "                          datetime.datetime(2024, 4, 13, 16, 30, tzinfo=datetime.timezone.utc),\n",
       "                          datetime.datetime(2024, 4, 14, 13, 30, tzinfo=datetime.timezone.utc),\n",
       "                          datetime.datetime(2024, 4, 14, 15, 30, tzinfo=datetime.timezone.utc),\n",
       "                          datetime.datetime(2024, 4, 19, 18, 30, tzinfo=datetime.timezone.utc),\n",
       "                          datetime.datetime(2024, 4, 20, 13, 30, tzinfo=datetime.timezone.utc),\n",
       "                          datetime.datetime(2024, 4, 20, 16, 30, tzinfo=datetime.timezone.utc),\n",
       "                          datetime.datetime(2024, 4, 21, 13, 30, tzinfo=datetime.timezone.utc),\n",
       "                          datetime.datetime(2024, 4, 21, 15, 30, tzinfo=datetime.timezone.utc),\n",
       "                          datetime.datetime(2024, 4, 21, 17, 30, tzinfo=datetime.timezone.utc),\n",
       "                          datetime.datetime(2024, 4, 26, 18, 30, tzinfo=datetime.timezone.utc),\n",
       "                          datetime.datetime(2024, 4, 27, 13, 30, tzinfo=datetime.timezone.utc),\n",
       "                          datetime.datetime(2024, 4, 27, 16, 30, tzinfo=datetime.timezone.utc),\n",
       "                          datetime.datetime(2024, 4, 28, 13, 30, tzinfo=datetime.timezone.utc),\n",
       "                          datetime.datetime(2024, 4, 28, 15, 30, tzinfo=datetime.timezone.utc),\n",
       "                          datetime.datetime(2024, 4, 28, 17, 30, tzinfo=datetime.timezone.utc),\n",
       "                          datetime.datetime(2024, 5, 3, 18, 30, tzinfo=datetime.timezone.utc),\n",
       "                          datetime.datetime(2024, 5, 4, 13, 30, tzinfo=datetime.timezone.utc),\n",
       "                          datetime.datetime(2024, 5, 4, 16, 30, tzinfo=datetime.timezone.utc),\n",
       "                          datetime.datetime(2024, 5, 5, 13, 30, tzinfo=datetime.timezone.utc),\n",
       "                          datetime.datetime(2024, 5, 5, 15, 30, tzinfo=datetime.timezone.utc),\n",
       "                          datetime.datetime(2024, 5, 5, 17, 30, tzinfo=datetime.timezone.utc),\n",
       "                          datetime.datetime(2024, 5, 10, 18, 30, tzinfo=datetime.timezone.utc),\n",
       "                          datetime.datetime(2024, 5, 11, 13, 30, tzinfo=datetime.timezone.utc),\n",
       "                          datetime.datetime(2024, 5, 11, 16, 30, tzinfo=datetime.timezone.utc),\n",
       "                          datetime.datetime(2024, 5, 12, 13, 30, tzinfo=datetime.timezone.utc),\n",
       "                          datetime.datetime(2024, 5, 12, 15, 30, tzinfo=datetime.timezone.utc),\n",
       "                          datetime.datetime(2024, 5, 12, 17, 30, tzinfo=datetime.timezone.utc),\n",
       "                          datetime.datetime(2024, 5, 18, 13, 30, tzinfo=datetime.timezone.utc)],\n",
       "                         dtype=object),\n",
       "              'xaxis': 'x',\n",
       "              'y': array([1., 1., 1., 1., 4., 5., 5., 6., 6., 8., 8., 8., 9., 9., 7., 7., 7., 7.,\n",
       "                          7., 5., 5., 6., 6., 1., 3., 3., 3., 3., 3., 2., 2., 3., 3., 3., 1., 3.,\n",
       "                          3., 3., 3., 3., 4., 4., 4., 4., 4., 4., 4., 4., 4., 4., 4., 4., 4., 4.,\n",
       "                          5., 5., 4., 4., 4., 4., 4., 5., 5., 5., 5., 5., 5., 5., 5., 5., 5., 5.,\n",
       "                          5., 5., 5., 5., 5., 5., 5., 5., 5., 5., 5., 5., 5., 5., 5., 5., 5., 5.,\n",
       "                          5., 5., 5., 5., 5., 4., 4., 4., 4., 4., 5., 5., 4., 4., 4., 4., 4., 4.,\n",
       "                          4., 5., 5., 5., 5., 5., 5., 5., 5., 5., 5., 5., 5., 5., 5., 5., 5., 5.,\n",
       "                          5., 5., 5., 5., 5., 5., 5., 5., 5., 4., 4., 4., 4., 4., 5., 5., 5., 5.,\n",
       "                          5., 5., 5., 5., 5., 5., 5., 5., 5., 5., 5., 5., 5., 5., 5., 5., 5., 5.,\n",
       "                          5., 5., 5., 5., 5., 5., 5., 5., 5., 5., 5., 5.]),\n",
       "              'yaxis': 'y'}],\n",
       "    'layout': {'legend': {'title': {'text': 'Team'}, 'tracegroupgap': 0},\n",
       "               'template': '...',\n",
       "               'title': {'text': 'Posição dos times ao longo do campeonato'},\n",
       "               'xaxis': {'anchor': 'y', 'domain': [0.0, 1.0], 'title': {'text': 'Data'}},\n",
       "               'yaxis': {'anchor': 'x',\n",
       "                         'autorange': 'reversed',\n",
       "                         'domain': [0.0, 1.0],\n",
       "                         'range': [0, 18],\n",
       "                         'title': {'text': 'Posição'}}}\n",
       "})"
      ]
     },
     "execution_count": 38,
     "metadata": {},
     "output_type": "execute_result"
    }
   ],
   "source": [
    "teams = ['Borussia Dortmund', 'Bayer Leverkusen']\n",
    "team_positions = positions[positions['Team'].isin(teams)]\n",
    "\n",
    "fig = px.line(team_positions, x='Date', y='Position', color='Team', markers=True,\n",
    "              title=f'Posição dos times ao longo do campeonato',\n",
    "              labels={'Date': 'Data', 'Position': 'Posição'})\n",
    "\n",
    "fig.update_yaxes(autorange='reversed', range=[0,18])\n",
    "fig.update_layout(xaxis_title='Data', yaxis_title='Posição')\n",
    "\n",
    "fig.show()"
   ]
  }
 ],
 "metadata": {
  "kernelspec": {
   "display_name": "Python 3",
   "language": "python",
   "name": "python3"
  },
  "language_info": {
   "codemirror_mode": {
    "name": "ipython",
    "version": 3
   },
   "file_extension": ".py",
   "mimetype": "text/x-python",
   "name": "python",
   "nbconvert_exporter": "python",
   "pygments_lexer": "ipython3",
   "version": "3.12.6"
  }
 },
 "nbformat": 4,
 "nbformat_minor": 2
}
